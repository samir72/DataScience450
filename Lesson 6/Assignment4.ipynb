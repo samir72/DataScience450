{
 "cells": [
  {
   "cell_type": "markdown",
   "metadata": {},
   "source": [
    "## Assignment # 4 - Data Preparation.\n",
    "## Data Science 450\n",
    "\n",
    "Consider the data collected by a hypothetical video store for 50 regular customers. This data consists of a table which, for each customer, records the following attributes: \n",
    "- Gender \n",
    "- Income \n",
    "- Age \n",
    "- Rentals : Total number of video rentals in the past year \n",
    "- Avg. per visit: Average number of video rentals per visit during the past year \n",
    "- Incidentals : Whether the customer tends to buy incidental items such as refreshments when renting a video \n",
    "- Genre - The customer's preferred movie genre"
   ]
  },
  {
   "cell_type": "markdown",
   "metadata": {},
   "source": [
    "Answer the following questions:\n",
    "\n",
    "- Use smoothing by bin means to smooth the values of the Age attribute. Use a bin depth of 4. \n",
    "- Use min-max normalization to transform the values of the Income attribute onto the range [0.0-1.0]. \n",
    "        -- Please refer the attached videostorAtoD.csv.\n",
    "- Use z-score normalization to standardize the values of the Rentals attribute. \n",
    "        -- Please refer the attached videostorAtoD.csv.\n",
    "- Discretize the (original) Income attribute based on the following categories: High = 60K+; Mid = 25K-59K; Low = less than 25K \n",
    "        -- Please refer the attached videostorAtoD.csv.\n",
    "- Convert the original data (not the results of parts a-d) into the standard spreadsheet format (note that this requires that you create, for every categorical attribute, additional attributes corresponding to values of that categorical attribute; numerical attributes in the original data remain unchanged). \n",
    "        -- Please refer the attached videostorAtoD.csv.\n",
    "- Using the standardized data set (from part e), perform basic correlation analysis among the attributes. Discuss your results by indicating any strong correlations (positive or negative) among pairs of attributes. You need to construct a complete Correlation Matrix (Please read the brief document Basic Correlation Analysis (see course website) for more detail). Can you observe any \"significant\" patterns among groups of two or more variables? Explain.\n",
    "        -- Please refer the attached videostorEtoI.csv.\n",
    "        -- Low income group rents the highest number of videos.\n",
    "        -- Females watch more of drama and men watch more of action.\n",
    "- Perform a cross-tabulation of the two \"gender\" variables versus the three \"genre\" variables. Show this as a 2 x 3 table with entries representing the total counts. Then, use a graph or chart that provides the best visualization of the relationships between these sets of variables. Can you draw any significant conclusions? \n",
    "        -- Females watch more of drama and men watch more of action.\n",
    "- Select all \"good\" customers with a high value for the Rentals attribute (a \"good customer is defined as one with a Rentals value of greater than or equal to 30). Then, create a summary (e.g., using means, medians, and/or other statistics) of the selected data with respect to all other attributes. Can you observe any significant patterns that characterize this segment of customers? Explain. Note: To know whether your observed patterns in the target group are significant, you need to compare them with the general population using the same metrics.\n",
    "        -- Good customers tend to watch more movies of drama genre followed by action genre.\n",
    "        -- Females rent the highest number of vides in the category of good customers.\n",
    "        -- Mean income of good customers is lower than the general customers.\n",
    "        -- Mean age of good customers is lower than the general customers.\n",
    "        -- Mean rentals of good customers are higher than general customers.\n",
    "        -- Mean Avg.Per.Visit of good customers is slightly higher than general customers, median value however is lower for good customers.\n",
    "- Suppose that because of the high profit margin, the store would like to increase the sales of incidentals. Based on your observations in previous parts discuss how this could be accomplished (e.g., should customers with specific characteristics be targeted? Should certain types of movies be preferred? etc.).Explain your answer based on your analysis of the data.\n",
    "        -- More movies with action genre should increase the incidentals."
   ]
  },
  {
   "cell_type": "markdown",
   "metadata": {},
   "source": [
    "## Load & examine the data set.\n",
    "\n",
    "The function shown in the cell below loads the data from the .csv file. \n",
    "Execute the code in this cell to load the data into your notebook. Make sure you have the **.csv file** in your working directory!."
   ]
  },
  {
   "cell_type": "code",
   "execution_count": 59,
   "metadata": {
    "collapsed": false
   },
   "outputs": [
    {
     "name": "stdout",
     "output_type": "stream",
     "text": [
      "\f"
     ]
    }
   ],
   "source": [
    "# Clear Workspace\n",
    "rm(list=ls())\n",
    "# Clear Console:\n",
    "cat(\"\\014\")\n",
    "library(ggplot2)\n",
    "library(reshape2)\n",
    "Loaddata <- function(file)\n",
    "{\n",
    "  #browser()\n",
    "  ## Read the csv file\n",
    "  Dataload <- read.csv(file, header = TRUE,stringsAsFactors = FALSE)\n",
    "  \n",
    "  ## Remove cases or rows with missing values. In this case we keep the \n",
    "  ## rows which do not have nas. \n",
    "  Dataload[complete.cases(Dataload), ]\n",
    "  return(Dataload)\n",
    "}"
   ]
  },
  {
   "cell_type": "markdown",
   "metadata": {},
   "source": [
    "### About the data set.\n",
    "\n",
    "Hypotheical data for a video store has been provided as part of this assignment."
   ]
  },
  {
   "cell_type": "markdown",
   "metadata": {},
   "source": [
    "## Create functions used in this assignment."
   ]
  },
  {
   "cell_type": "code",
   "execution_count": 60,
   "metadata": {
    "collapsed": true
   },
   "outputs": [],
   "source": [
    "#MinMax Function\n",
    "MinMax <- function(Column)\n",
    "{\n",
    "  x <- Column\n",
    "  y <- 1000*x\n",
    "  a <- min(x)\n",
    "  b <- max(x) - min(x)\n",
    "  minmaxnormalized <- (x - a) / b\n",
    "  return(minmaxnormalized)\n",
    "}\n",
    "#Discretize Function\n",
    "Discretize <- function(Column)\n",
    "{\n",
    "  #browser()\n",
    "  x1 <- Column\n",
    "  range <- max(x1) - min(x1)\n",
    "  binWidth <- range / 3\n",
    "  bin1Min <- -Inf\n",
    "  bin1Max <- min(x1) + binWidth\n",
    "  bin2Max <- min(x1) + 2*binWidth\n",
    "  bin3Max <- min(x1) + 3*binWidth\n",
    "  bin4Max <- Inf\n",
    "\n",
    "  xDiscretized <- rep(NA, length(x1))\n",
    "  \n",
    "  xDiscretized[bin1Min < x1 & x1 <= bin1Max] <- \"Low\"\n",
    "  xDiscretized[bin1Max < x1 & x1 <= bin2Max] <- \"Medium\"\n",
    "  xDiscretized[bin2Max < x1 & x1 <= bin4Max] <- \"High\"\n",
    "  #xDiscretized[bin3Max < x1 & x1 <= bin4Max] <- \"Very High\"\n",
    "  \n",
    "  return(xDiscretized)\n",
    "}"
   ]
  },
  {
   "cell_type": "markdown",
   "metadata": {},
   "source": [
    "## Load the file.\n",
    "I am now calling the function \"LoadData\" to load the Video_Store.csv file."
   ]
  },
  {
   "cell_type": "code",
   "execution_count": 61,
   "metadata": {
    "collapsed": false
   },
   "outputs": [],
   "source": [
    "# Load the file.\n",
    "videostore <- Loaddata('Video_Store.csv')"
   ]
  },
  {
   "cell_type": "markdown",
   "metadata": {},
   "source": [
    "## Check data structure."
   ]
  },
  {
   "cell_type": "code",
   "execution_count": 62,
   "metadata": {
    "collapsed": false
   },
   "outputs": [
    {
     "name": "stdout",
     "output_type": "stream",
     "text": [
      "'data.frame':\t50 obs. of  8 variables:\n",
      " $ Cust.ID      : int  1 2 3 4 5 6 7 8 9 10 ...\n",
      " $ Gender       : chr  \"M\" \"F\" \"F\" \"F\" ...\n",
      " $ Income       : int  45000 54000 32000 59000 37000 18000 29000 74000 38000 65000 ...\n",
      " $ Age          : int  25 33 20 70 35 20 45 25 21 40 ...\n",
      " $ Rentals      : int  27 12 42 16 25 33 19 31 18 21 ...\n",
      " $ Avg.Per.Visit: num  2.5 3.4 1.6 4.2 3.2 1.7 3.8 2.4 2.1 3.3 ...\n",
      " $ Incidentals  : chr  \"Yes\" \"No\" \"No\" \"Yes\" ...\n",
      " $ Genre        : chr  \"Action\" \"Drama\" \"Comedy\" \"Drama\" ...\n"
     ]
    }
   ],
   "source": [
    "str(videostore)"
   ]
  },
  {
   "cell_type": "markdown",
   "metadata": {},
   "source": [
    "### View the Head."
   ]
  },
  {
   "cell_type": "code",
   "execution_count": 63,
   "metadata": {
    "collapsed": false
   },
   "outputs": [
    {
     "data": {
      "text/html": [
       "<table>\n",
       "<thead><tr><th scope=col>Cust.ID</th><th scope=col>Gender</th><th scope=col>Income</th><th scope=col>Age</th><th scope=col>Rentals</th><th scope=col>Avg.Per.Visit</th><th scope=col>Incidentals</th><th scope=col>Genre</th></tr></thead>\n",
       "<tbody>\n",
       "\t<tr><td>1     </td><td>M     </td><td>45000 </td><td>25    </td><td>27    </td><td>2.5   </td><td>Yes   </td><td>Action</td></tr>\n",
       "\t<tr><td>2     </td><td>F     </td><td>54000 </td><td>33    </td><td>12    </td><td>3.4   </td><td>No    </td><td>Drama </td></tr>\n",
       "\t<tr><td>3     </td><td>F     </td><td>32000 </td><td>20    </td><td>42    </td><td>1.6   </td><td>No    </td><td>Comedy</td></tr>\n",
       "\t<tr><td>4     </td><td>F     </td><td>59000 </td><td>70    </td><td>16    </td><td>4.2   </td><td>Yes   </td><td>Drama </td></tr>\n",
       "\t<tr><td>5     </td><td>M     </td><td>37000 </td><td>35    </td><td>25    </td><td>3.2   </td><td>Yes   </td><td>Action</td></tr>\n",
       "\t<tr><td>6     </td><td>M     </td><td>18000 </td><td>20    </td><td>33    </td><td>1.7   </td><td>No    </td><td>Action</td></tr>\n",
       "</tbody>\n",
       "</table>\n"
      ],
      "text/latex": [
       "\\begin{tabular}{r|llllllll}\n",
       " Cust.ID & Gender & Income & Age & Rentals & Avg.Per.Visit & Incidentals & Genre\\\\\n",
       "\\hline\n",
       "\t 1      & M      & 45000  & 25     & 27     & 2.5    & Yes    & Action\\\\\n",
       "\t 2      & F      & 54000  & 33     & 12     & 3.4    & No     & Drama \\\\\n",
       "\t 3      & F      & 32000  & 20     & 42     & 1.6    & No     & Comedy\\\\\n",
       "\t 4      & F      & 59000  & 70     & 16     & 4.2    & Yes    & Drama \\\\\n",
       "\t 5      & M      & 37000  & 35     & 25     & 3.2    & Yes    & Action\\\\\n",
       "\t 6      & M      & 18000  & 20     & 33     & 1.7    & No     & Action\\\\\n",
       "\\end{tabular}\n"
      ],
      "text/markdown": [
       "\n",
       "Cust.ID | Gender | Income | Age | Rentals | Avg.Per.Visit | Incidentals | Genre | \n",
       "|---|---|---|---|---|---|\n",
       "| 1      | M      | 45000  | 25     | 27     | 2.5    | Yes    | Action | \n",
       "| 2      | F      | 54000  | 33     | 12     | 3.4    | No     | Drama  | \n",
       "| 3      | F      | 32000  | 20     | 42     | 1.6    | No     | Comedy | \n",
       "| 4      | F      | 59000  | 70     | 16     | 4.2    | Yes    | Drama  | \n",
       "| 5      | M      | 37000  | 35     | 25     | 3.2    | Yes    | Action | \n",
       "| 6      | M      | 18000  | 20     | 33     | 1.7    | No     | Action | \n",
       "\n",
       "\n"
      ],
      "text/plain": [
       "  Cust.ID Gender Income Age Rentals Avg.Per.Visit Incidentals Genre \n",
       "1 1       M      45000  25  27      2.5           Yes         Action\n",
       "2 2       F      54000  33  12      3.4           No          Drama \n",
       "3 3       F      32000  20  42      1.6           No          Comedy\n",
       "4 4       F      59000  70  16      4.2           Yes         Drama \n",
       "5 5       M      37000  35  25      3.2           Yes         Action\n",
       "6 6       M      18000  20  33      1.7           No          Action"
      ]
     },
     "metadata": {},
     "output_type": "display_data"
    }
   ],
   "source": [
    "head(videostore)"
   ]
  },
  {
   "cell_type": "markdown",
   "metadata": {},
   "source": [
    "## Check the summary of the data frame."
   ]
  },
  {
   "cell_type": "code",
   "execution_count": 64,
   "metadata": {
    "collapsed": false
   },
   "outputs": [
    {
     "data": {
      "text/plain": [
       "$Cust.ID\n",
       "   Min. 1st Qu.  Median    Mean 3rd Qu.    Max. \n",
       "   1.00   13.25   25.50   25.50   37.75   50.00 \n",
       "\n",
       "$Gender\n",
       "   Length     Class      Mode \n",
       "       50 character character \n",
       "\n",
       "$Income\n",
       "   Min. 1st Qu.  Median    Mean 3rd Qu.    Max. \n",
       "   1000   26750   41000   42300   56750   89000 \n",
       "\n",
       "$Age\n",
       "   Min. 1st Qu.  Median    Mean 3rd Qu.    Max. \n",
       "  15.00   22.00   30.00   31.56   37.50   70.00 \n",
       "\n",
       "$Rentals\n",
       "   Min. 1st Qu.  Median    Mean 3rd Qu.    Max. \n",
       "   9.00   19.00   25.00   26.24   32.75   48.00 \n",
       "\n",
       "$Avg.Per.Visit\n",
       "   Min. 1st Qu.  Median    Mean 3rd Qu.    Max. \n",
       "  1.100   2.125   2.750   2.748   3.375   4.700 \n",
       "\n",
       "$Incidentals\n",
       "   Length     Class      Mode \n",
       "       50 character character \n",
       "\n",
       "$Genre\n",
       "   Length     Class      Mode \n",
       "       50 character character \n"
      ]
     },
     "metadata": {},
     "output_type": "display_data"
    }
   ],
   "source": [
    "lapply(videostore, summary)"
   ]
  },
  {
   "cell_type": "markdown",
   "metadata": {},
   "source": [
    "## Data Visualization"
   ]
  },
  {
   "cell_type": "code",
   "execution_count": 65,
   "metadata": {
    "collapsed": false
   },
   "outputs": [
    {
     "name": "stderr",
     "output_type": "stream",
     "text": [
      "Using Gender, Incidentals, Genre as id variables\n"
     ]
    },
    {
     "data": {},
     "metadata": {},
     "output_type": "display_data"
    },
    {
     "data": {
      "image/png": "[encoded data removed]",
      "text/plain": [
       "plot without title"
      ]
     },
     "metadata": {},
     "output_type": "display_data"
    }
   ],
   "source": [
    "ggplot(data = melt(videostore), mapping = aes(x = value)) + \n",
    "  geom_histogram(bins = 10) + facet_wrap(~variable, scales = 'free_x')"
   ]
  },
  {
   "cell_type": "markdown",
   "metadata": {},
   "source": [
    "## Min Max Normalization Of Numeric Columns"
   ]
  },
  {
   "cell_type": "code",
   "execution_count": 66,
   "metadata": {
    "collapsed": false
   },
   "outputs": [],
   "source": [
    "#Income\n",
    "minmaxnormalized<- MinMax(videostore$Income)\n",
    "videostore$minmaxIncome <- minmaxnormalized\n",
    "#Age\n",
    "minmaxnormalized<- MinMax(videostore$Age)\n",
    "videostore$minmaxAge <- minmaxnormalized\n",
    "#Rentals\n",
    "minmaxnormalized<- MinMax(videostore$Rentals)\n",
    "videostore$minmaxRentals <- minmaxnormalized\n",
    "#Avg.Per.Visit\n",
    "minmaxnormalized<- MinMax(videostore$Avg.Per.Visit)\n",
    "videostore$minmaxAvgPerVisit <- minmaxnormalized"
   ]
  },
  {
   "cell_type": "markdown",
   "metadata": {},
   "source": [
    "## z-Score Normalizaition of Rentals"
   ]
  },
  {
   "cell_type": "code",
   "execution_count": 67,
   "metadata": {
    "collapsed": false
   },
   "outputs": [],
   "source": [
    "videostore$zScoreRental <- scale(videostore$Rentals)"
   ]
  },
  {
   "cell_type": "markdown",
   "metadata": {},
   "source": [
    "## Discretize the (original) Income attribute based on the following categories: High = 60K+; Mid = 25K-59K; Low = less than 25K"
   ]
  },
  {
   "cell_type": "code",
   "execution_count": 68,
   "metadata": {
    "collapsed": false
   },
   "outputs": [],
   "source": [
    "#Income\n",
    "xDiscretized <- Discretize(videostore$Income)\n",
    "videostore$IncomeBin <- xDiscretized\n",
    "#Age\n",
    "xDiscretized <- Discretize(videostore$Age)\n",
    "videostore$AgeBin <- xDiscretized"
   ]
  },
  {
   "cell_type": "markdown",
   "metadata": {},
   "source": [
    "## Write dataframe to a csv file upto this point."
   ]
  },
  {
   "cell_type": "code",
   "execution_count": 69,
   "metadata": {
    "collapsed": false
   },
   "outputs": [],
   "source": [
    "#Write dataframe to a csv file (A to D).\n",
    "write.csv(videostore, file = \"videostorAtoD.csv\")"
   ]
  },
  {
   "cell_type": "markdown",
   "metadata": {},
   "source": [
    "## Convert the original data (not the results of parts a-d) into the standard spreadsheet format (note that this requires that you create, for every categorical attribute, additional attributes corresponding to values of that categorical attribute; numerical attributes in the original data remain unchanged)."
   ]
  },
  {
   "cell_type": "code",
   "execution_count": 70,
   "metadata": {
    "collapsed": false
   },
   "outputs": [
    {
     "data": {
      "text/html": [
       "<ol class=list-inline>\n",
       "\t<li>'Action'</li>\n",
       "\t<li>'Drama'</li>\n",
       "\t<li>'Comedy'</li>\n",
       "</ol>\n"
      ],
      "text/latex": [
       "\\begin{enumerate*}\n",
       "\\item 'Action'\n",
       "\\item 'Drama'\n",
       "\\item 'Comedy'\n",
       "\\end{enumerate*}\n"
      ],
      "text/markdown": [
       "1. 'Action'\n",
       "2. 'Drama'\n",
       "3. 'Comedy'\n",
       "\n",
       "\n"
      ],
      "text/plain": [
       "[1] \"Action\" \"Drama\"  \"Comedy\""
      ]
     },
     "metadata": {},
     "output_type": "display_data"
    },
    {
     "data": {
      "text/html": [
       "<table>\n",
       "<thead><tr><th scope=col>Cust.ID</th><th scope=col>Gender</th><th scope=col>Income</th><th scope=col>Age</th><th scope=col>Rentals</th><th scope=col>Avg.Per.Visit</th><th scope=col>Incidentals</th><th scope=col>Genre</th><th scope=col>minmaxIncome</th><th scope=col>minmaxAge</th><th scope=col>minmaxRentals</th><th scope=col>minmaxAvgPerVisit</th><th scope=col>zScoreRental</th><th scope=col>IncomeBin</th><th scope=col>AgeBin</th><th scope=col>BinarizedGender</th><th scope=col>BinarizedGenre</th></tr></thead>\n",
       "<tbody>\n",
       "\t<tr><td>1          </td><td>M          </td><td>45000      </td><td>25         </td><td>27         </td><td>2.5        </td><td>Yes        </td><td>Action     </td><td>0.5000000  </td><td>0.18181818 </td><td>0.46153846 </td><td>0.3888889  </td><td> 0.07579055</td><td>Medium     </td><td>Low        </td><td>1          </td><td>1          </td></tr>\n",
       "\t<tr><td>2          </td><td>F          </td><td>54000      </td><td>33         </td><td>12         </td><td>3.4        </td><td>No         </td><td>Drama      </td><td>0.6022727  </td><td>0.32727273 </td><td>0.07692308 </td><td>0.6388889  </td><td>-1.42007558</td><td>Medium     </td><td>Low        </td><td>0          </td><td>2          </td></tr>\n",
       "\t<tr><td>3          </td><td>F          </td><td>32000      </td><td>20         </td><td>42         </td><td>1.6        </td><td>No         </td><td>Comedy     </td><td>0.3522727  </td><td>0.09090909 </td><td>0.84615385 </td><td>0.1388889  </td><td> 1.57165668</td><td>Medium     </td><td>Low        </td><td>0          </td><td>3          </td></tr>\n",
       "\t<tr><td>4          </td><td>F          </td><td>59000      </td><td>70         </td><td>16         </td><td>4.2        </td><td>Yes        </td><td>Drama      </td><td>0.6590909  </td><td>1.00000000 </td><td>0.17948718 </td><td>0.8611111  </td><td>-1.02117795</td><td>Medium     </td><td>High       </td><td>0          </td><td>2          </td></tr>\n",
       "\t<tr><td>5          </td><td>M          </td><td>37000      </td><td>35         </td><td>25         </td><td>3.2        </td><td>Yes        </td><td>Action     </td><td>0.4090909  </td><td>0.36363636 </td><td>0.41025641 </td><td>0.5833333  </td><td>-0.12365827</td><td>Medium     </td><td>Medium     </td><td>1          </td><td>1          </td></tr>\n",
       "\t<tr><td>6          </td><td>M          </td><td>18000      </td><td>20         </td><td>33         </td><td>1.7        </td><td>No         </td><td>Action     </td><td>0.1931818  </td><td>0.09090909 </td><td>0.61538462 </td><td>0.1666667  </td><td> 0.67413700</td><td>Low        </td><td>Low        </td><td>1          </td><td>1          </td></tr>\n",
       "</tbody>\n",
       "</table>\n"
      ],
      "text/latex": [
       "\\begin{tabular}{r|lllllllllllllllll}\n",
       " Cust.ID & Gender & Income & Age & Rentals & Avg.Per.Visit & Incidentals & Genre & minmaxIncome & minmaxAge & minmaxRentals & minmaxAvgPerVisit & zScoreRental & IncomeBin & AgeBin & BinarizedGender & BinarizedGenre\\\\\n",
       "\\hline\n",
       "\t 1           & M           & 45000       & 25          & 27          & 2.5         & Yes         & Action      & 0.5000000   & 0.18181818  & 0.46153846  & 0.3888889   &  0.07579055 & Medium      & Low         & 1           & 1          \\\\\n",
       "\t 2           & F           & 54000       & 33          & 12          & 3.4         & No          & Drama       & 0.6022727   & 0.32727273  & 0.07692308  & 0.6388889   & -1.42007558 & Medium      & Low         & 0           & 2          \\\\\n",
       "\t 3           & F           & 32000       & 20          & 42          & 1.6         & No          & Comedy      & 0.3522727   & 0.09090909  & 0.84615385  & 0.1388889   &  1.57165668 & Medium      & Low         & 0           & 3          \\\\\n",
       "\t 4           & F           & 59000       & 70          & 16          & 4.2         & Yes         & Drama       & 0.6590909   & 1.00000000  & 0.17948718  & 0.8611111   & -1.02117795 & Medium      & High        & 0           & 2          \\\\\n",
       "\t 5           & M           & 37000       & 35          & 25          & 3.2         & Yes         & Action      & 0.4090909   & 0.36363636  & 0.41025641  & 0.5833333   & -0.12365827 & Medium      & Medium      & 1           & 1          \\\\\n",
       "\t 6           & M           & 18000       & 20          & 33          & 1.7         & No          & Action      & 0.1931818   & 0.09090909  & 0.61538462  & 0.1666667   &  0.67413700 & Low         & Low         & 1           & 1          \\\\\n",
       "\\end{tabular}\n"
      ],
      "text/markdown": [
       "\n",
       "Cust.ID | Gender | Income | Age | Rentals | Avg.Per.Visit | Incidentals | Genre | minmaxIncome | minmaxAge | minmaxRentals | minmaxAvgPerVisit | zScoreRental | IncomeBin | AgeBin | BinarizedGender | BinarizedGenre | \n",
       "|---|---|---|---|---|---|\n",
       "| 1           | M           | 45000       | 25          | 27          | 2.5         | Yes         | Action      | 0.5000000   | 0.18181818  | 0.46153846  | 0.3888889   |  0.07579055 | Medium      | Low         | 1           | 1           | \n",
       "| 2           | F           | 54000       | 33          | 12          | 3.4         | No          | Drama       | 0.6022727   | 0.32727273  | 0.07692308  | 0.6388889   | -1.42007558 | Medium      | Low         | 0           | 2           | \n",
       "| 3           | F           | 32000       | 20          | 42          | 1.6         | No          | Comedy      | 0.3522727   | 0.09090909  | 0.84615385  | 0.1388889   |  1.57165668 | Medium      | Low         | 0           | 3           | \n",
       "| 4           | F           | 59000       | 70          | 16          | 4.2         | Yes         | Drama       | 0.6590909   | 1.00000000  | 0.17948718  | 0.8611111   | -1.02117795 | Medium      | High        | 0           | 2           | \n",
       "| 5           | M           | 37000       | 35          | 25          | 3.2         | Yes         | Action      | 0.4090909   | 0.36363636  | 0.41025641  | 0.5833333   | -0.12365827 | Medium      | Medium      | 1           | 1           | \n",
       "| 6           | M           | 18000       | 20          | 33          | 1.7         | No          | Action      | 0.1931818   | 0.09090909  | 0.61538462  | 0.1666667   |  0.67413700 | Low         | Low         | 1           | 1           | \n",
       "\n",
       "\n"
      ],
      "text/plain": [
       "  Cust.ID Gender Income Age Rentals Avg.Per.Visit Incidentals Genre \n",
       "1 1       M      45000  25  27      2.5           Yes         Action\n",
       "2 2       F      54000  33  12      3.4           No          Drama \n",
       "3 3       F      32000  20  42      1.6           No          Comedy\n",
       "4 4       F      59000  70  16      4.2           Yes         Drama \n",
       "5 5       M      37000  35  25      3.2           Yes         Action\n",
       "6 6       M      18000  20  33      1.7           No          Action\n",
       "  minmaxIncome minmaxAge  minmaxRentals minmaxAvgPerVisit zScoreRental\n",
       "1 0.5000000    0.18181818 0.46153846    0.3888889          0.07579055 \n",
       "2 0.6022727    0.32727273 0.07692308    0.6388889         -1.42007558 \n",
       "3 0.3522727    0.09090909 0.84615385    0.1388889          1.57165668 \n",
       "4 0.6590909    1.00000000 0.17948718    0.8611111         -1.02117795 \n",
       "5 0.4090909    0.36363636 0.41025641    0.5833333         -0.12365827 \n",
       "6 0.1931818    0.09090909 0.61538462    0.1666667          0.67413700 \n",
       "  IncomeBin AgeBin BinarizedGender BinarizedGenre\n",
       "1 Medium    Low    1               1             \n",
       "2 Medium    Low    0               2             \n",
       "3 Medium    Low    0               3             \n",
       "4 Medium    High   0               2             \n",
       "5 Medium    Medium 1               1             \n",
       "6 Low       Low    1               1             "
      ]
     },
     "metadata": {},
     "output_type": "display_data"
    }
   ],
   "source": [
    "# Unique Genre values.\n",
    "unique(videostore$Genre)\n",
    "# Binarize.\n",
    "videostore$BinarizedGender <- ifelse(videostore$Gender == 'M',1,0)\n",
    "videostore$BinarizedGenre <- ifelse(videostore$Genre == 'Action',1,(ifelse(videostore$Genre == 'Drama',2,3)))\n",
    "# Check the header data after binarizing the categorical variables.\n",
    "head(videostore)"
   ]
  },
  {
   "cell_type": "markdown",
   "metadata": {},
   "source": [
    "## Using the standardized data set (from part e), perform basic correlation analysis among the attributes. Discuss your results by indicating any strong correlations (positive or negative) among pairs of attributes. You need to construct a complete Correlation Matrix (Please read the brief document Basic Correlation Analysis (see course website) for more detail). Can you observe any \"significant\" patterns among groups of two or more variables? Explain."
   ]
  },
  {
   "cell_type": "code",
   "execution_count": 71,
   "metadata": {
    "collapsed": false
   },
   "outputs": [
    {
     "data": {
      "image/png": "[encoded data removed]",
      "text/plain": [
       "Plot with title \"Movie Rental by Genre\""
      ]
     },
     "metadata": {},
     "output_type": "display_data"
    },
    {
     "data": {
      "image/png": "[encoded data removed]",
      "text/plain": [
       "Plot with title \"Movie Rental by Income\""
      ]
     },
     "metadata": {},
     "output_type": "display_data"
    }
   ],
   "source": [
    "# Boxplot of Movie Rental By Genre.\n",
    "boxplot(Rentals~Genre,data=videostore, main=\"Movie Rental by Genre\",\n",
    "        xlab=\"Movie Genre\", ylab=\"Rental Count\") \n",
    "# Action genre is popular in the general population.\n",
    "# Boxplot of Movie Rental By Income.\n",
    "boxplot(Rentals~IncomeBin,data=videostore, main=\"Movie Rental by Income\",\n",
    "        xlab=\"Income Bin\", ylab=\"Rental Count\") \n",
    "#Low income group rents the highest number of videos."
   ]
  },
  {
   "cell_type": "markdown",
   "metadata": {},
   "source": [
    "## Perform a cross-tabulation of the two \"gender\" variables versus the three \"genre\" variables. Show this as a 2 x 3 table with entries representing the total counts."
   ]
  },
  {
   "cell_type": "code",
   "execution_count": 72,
   "metadata": {
    "collapsed": false
   },
   "outputs": [
    {
     "data": {
      "text/plain": [
       "   \n",
       "    Action Comedy Drama\n",
       "  F      5      6    13\n",
       "  M     13      6     7"
      ]
     },
     "metadata": {},
     "output_type": "display_data"
    }
   ],
   "source": [
    "table(videostore$Gender,videostore$Genre)\n",
    "#Females watch more of drama and men watch more of action."
   ]
  },
  {
   "cell_type": "markdown",
   "metadata": {},
   "source": [
    "## Use a graph or chart that provides the best visualization of the relationships between these sets of variables. Can you draw any significant conclusions?"
   ]
  },
  {
   "cell_type": "code",
   "execution_count": 73,
   "metadata": {
    "collapsed": false
   },
   "outputs": [
    {
     "data": {
      "image/png": "[encoded data removed]",
      "text/plain": [
       "Plot with title \"Gender by Genre\""
      ]
     },
     "metadata": {},
     "output_type": "display_data"
    },
    {
     "data": {
      "image/png": "[encoded data removed]",
      "text/plain": [
       "Plot with title \"Rental by Gender\""
      ]
     },
     "metadata": {},
     "output_type": "display_data"
    }
   ],
   "source": [
    "# Boxplot of Gender by Genre\n",
    "boxplot(BinarizedGender~Genre,data=videostore, main=\"Gender by Genre\",\n",
    "        xlab=\"Genre\", ylab=\"Gender\")\n",
    "#Females watch more of drama and men watch more of action.\n",
    "\n",
    "# Boxplot of Gender by rental\n",
    "boxplot(Rentals~Gender,data=videostore, main=\"Rental by Gender\",\n",
    "        xlab=\"Gender\", ylab=\"Rental\")\n",
    "#In general population Males watch more videos."
   ]
  },
  {
   "cell_type": "markdown",
   "metadata": {},
   "source": [
    "## Select good customers.\n"
   ]
  },
  {
   "cell_type": "code",
   "execution_count": 74,
   "metadata": {
    "collapsed": true
   },
   "outputs": [],
   "source": [
    "#Get good customers.\n",
    "videostoregoodcust <- videostore[videostore$Rentals >= 30,]"
   ]
  },
  {
   "cell_type": "markdown",
   "metadata": {},
   "source": [
    "## Summary of good customer."
   ]
  },
  {
   "cell_type": "code",
   "execution_count": 75,
   "metadata": {
    "collapsed": false
   },
   "outputs": [
    {
     "data": {
      "text/plain": [
       "$Cust.ID\n",
       "   Min. 1st Qu.  Median    Mean 3rd Qu.    Max. \n",
       "   1.00   13.25   25.50   25.50   37.75   50.00 \n",
       "\n",
       "$Gender\n",
       "   Length     Class      Mode \n",
       "       50 character character \n",
       "\n",
       "$Income\n",
       "   Min. 1st Qu.  Median    Mean 3rd Qu.    Max. \n",
       "   1000   26750   41000   42300   56750   89000 \n",
       "\n",
       "$Age\n",
       "   Min. 1st Qu.  Median    Mean 3rd Qu.    Max. \n",
       "  15.00   22.00   30.00   31.56   37.50   70.00 \n",
       "\n",
       "$Rentals\n",
       "   Min. 1st Qu.  Median    Mean 3rd Qu.    Max. \n",
       "   9.00   19.00   25.00   26.24   32.75   48.00 \n",
       "\n",
       "$Avg.Per.Visit\n",
       "   Min. 1st Qu.  Median    Mean 3rd Qu.    Max. \n",
       "  1.100   2.125   2.750   2.748   3.375   4.700 \n",
       "\n",
       "$Incidentals\n",
       "   Length     Class      Mode \n",
       "       50 character character \n",
       "\n",
       "$Genre\n",
       "   Length     Class      Mode \n",
       "       50 character character \n",
       "\n",
       "$minmaxIncome\n",
       "   Min. 1st Qu.  Median    Mean 3rd Qu.    Max. \n",
       " 0.0000  0.2926  0.4545  0.4693  0.6335  1.0000 \n",
       "\n",
       "$minmaxAge\n",
       "   Min. 1st Qu.  Median    Mean 3rd Qu.    Max. \n",
       " 0.0000  0.1273  0.2727  0.3011  0.4091  1.0000 \n",
       "\n",
       "$minmaxRentals\n",
       "   Min. 1st Qu.  Median    Mean 3rd Qu.    Max. \n",
       " 0.0000  0.2564  0.4103  0.4421  0.6090  1.0000 \n",
       "\n",
       "$minmaxAvgPerVisit\n",
       "   Min. 1st Qu.  Median    Mean 3rd Qu.    Max. \n",
       " 0.0000  0.2847  0.4583  0.4578  0.6319  1.0000 \n",
       "\n",
       "$zScoreRental\n",
       "       V1         \n",
       " Min.   :-1.7192  \n",
       " 1st Qu.:-0.7220  \n",
       " Median :-0.1237  \n",
       " Mean   : 0.0000  \n",
       " 3rd Qu.: 0.6492  \n",
       " Max.   : 2.1700  \n",
       "\n",
       "$IncomeBin\n",
       "   Length     Class      Mode \n",
       "       50 character character \n",
       "\n",
       "$AgeBin\n",
       "   Length     Class      Mode \n",
       "       50 character character \n",
       "\n",
       "$BinarizedGender\n",
       "   Min. 1st Qu.  Median    Mean 3rd Qu.    Max. \n",
       "   0.00    0.00    1.00    0.52    1.00    1.00 \n",
       "\n",
       "$BinarizedGenre\n",
       "   Min. 1st Qu.  Median    Mean 3rd Qu.    Max. \n",
       "   1.00    1.00    2.00    1.88    2.00    3.00 \n"
      ]
     },
     "metadata": {},
     "output_type": "display_data"
    }
   ],
   "source": [
    "#Check the summary of general customers.\n",
    "lapply(videostore, summary)"
   ]
  },
  {
   "cell_type": "markdown",
   "metadata": {},
   "source": [
    "## Select all \"good\" customers with a high value for the Rentals attribute (a \"good customer is defined as one with a Rentals value of greater than or equal to 30). Then, create a summary (e.g., using means, medians, and/or other statistics) of the selected data with respect to all other attributes. Can you observe any significant patterns that characterize this segment of customers? Explain."
   ]
  },
  {
   "cell_type": "code",
   "execution_count": 76,
   "metadata": {
    "collapsed": false
   },
   "outputs": [
    {
     "data": {
      "image/png": "[encoded data removed]",
      "text/plain": [
       "Plot with title \"Movie Rental by Genre for good customers\""
      ]
     },
     "metadata": {},
     "output_type": "display_data"
    },
    {
     "data": {
      "text/plain": [
       "$Cust.ID\n",
       "   Min. 1st Qu.  Median    Mean 3rd Qu.    Max. \n",
       "   3.00   15.75   26.50   26.83   39.00   50.00 \n",
       "\n",
       "$Gender\n",
       "   Length     Class      Mode \n",
       "       18 character character \n",
       "\n",
       "$Income\n",
       "   Min. 1st Qu.  Median    Mean 3rd Qu.    Max. \n",
       "   2000   19500   31500   37670   56000   74000 \n",
       "\n",
       "$Age\n",
       "   Min. 1st Qu.  Median    Mean 3rd Qu.    Max. \n",
       "  15.00   20.00   23.50   25.17   28.75   47.00 \n",
       "\n",
       "$Rentals\n",
       "   Min. 1st Qu.  Median    Mean 3rd Qu.    Max. \n",
       "  30.00   32.25   36.50   37.28   41.75   48.00 \n",
       "\n",
       "$Avg.Per.Visit\n",
       "   Min. 1st Qu.  Median    Mean 3rd Qu.    Max. \n",
       "  1.600   2.150   2.550   2.778   3.375   4.700 \n",
       "\n",
       "$Incidentals\n",
       "   Length     Class      Mode \n",
       "       18 character character \n",
       "\n",
       "$Genre\n",
       "   Length     Class      Mode \n",
       "       18 character character \n",
       "\n",
       "$minmaxIncome\n",
       "   Min. 1st Qu.  Median    Mean 3rd Qu.    Max. \n",
       "0.01136 0.21020 0.34660 0.41670 0.62500 0.82950 \n",
       "\n",
       "$minmaxAge\n",
       "   Min. 1st Qu.  Median    Mean 3rd Qu.    Max. \n",
       "0.00000 0.09091 0.15450 0.18480 0.25000 0.58180 \n",
       "\n",
       "$minmaxRentals\n",
       "   Min. 1st Qu.  Median    Mean 3rd Qu.    Max. \n",
       " 0.5385  0.5962  0.7051  0.7251  0.8397  1.0000 \n",
       "\n",
       "$minmaxAvgPerVisit\n",
       "   Min. 1st Qu.  Median    Mean 3rd Qu.    Max. \n",
       " 0.1389  0.2917  0.4028  0.4660  0.6319  1.0000 \n",
       "\n",
       "$zScoreRental\n",
       "       V1        \n",
       " Min.   :0.3750  \n",
       " 1st Qu.:0.5993  \n",
       " Median :1.0232  \n",
       " Mean   :1.1007  \n",
       " 3rd Qu.:1.5467  \n",
       " Max.   :2.1700  \n",
       "\n",
       "$IncomeBin\n",
       "   Length     Class      Mode \n",
       "       18 character character \n",
       "\n",
       "$AgeBin\n",
       "   Length     Class      Mode \n",
       "       18 character character \n",
       "\n",
       "$BinarizedGender\n",
       "   Min. 1st Qu.  Median    Mean 3rd Qu.    Max. \n",
       " 0.0000  0.0000  0.0000  0.4444  1.0000  1.0000 \n",
       "\n",
       "$BinarizedGenre\n",
       "   Min. 1st Qu.  Median    Mean 3rd Qu.    Max. \n",
       "  1.000   1.000   1.500   1.778   2.750   3.000 \n"
      ]
     },
     "metadata": {},
     "output_type": "display_data"
    },
    {
     "data": {
      "image/png": "[encoded data removed]",
      "text/plain": [
       "Plot with title \"Rental by Gender for good customers\""
      ]
     },
     "metadata": {},
     "output_type": "display_data"
    }
   ],
   "source": [
    "# Boxplot of Movie Rental By Genre.\n",
    "boxplot(Rentals~Genre,data=videostoregoodcust, main=\"Movie Rental by Genre for good customers\",\n",
    "        xlab=\"Movie Genre\", ylab=\"Rental Count\") \n",
    "#Good customers tend to watch more movies of drama genre followed by action genre.\n",
    "# Boxplot of Gender by rental\n",
    "boxplot(Rentals~Gender,data=videostoregoodcust, main=\"Rental by Gender for good customers\",\n",
    "        xlab=\"Gender\", ylab=\"Rental\")\n",
    "#Females rent the highest number of vides in the category of good customers.\n",
    "#Check the summary of good customers.\n",
    "lapply(videostoregoodcust, summary)\n",
    "#Mean income of good customers is lower than the general customers.\n",
    "#Mean age of good customers is lower than the general customers.\n",
    "#Mean rentals of good customers are higher than general customers.\n",
    "#Mean Avg.Per.Visit of good customers is slightly higher than general customers, median value however is lower for good customers.\n"
   ]
  },
  {
   "cell_type": "markdown",
   "metadata": {},
   "source": [
    "## Suppose that because of the high profit margin, the store would like to increase the sales of incidentals. Based on your observations in previous parts discuss how this could be accomplished (e.g., should customers with specific characteristics be targeted? Should certain types of movies be preferred? etc.). Explain your answer based on your analysis of the data."
   ]
  },
  {
   "cell_type": "code",
   "execution_count": 77,
   "metadata": {
    "collapsed": false
   },
   "outputs": [
    {
     "data": {
      "image/png": "[encoded data removed]",
      "text/plain": [
       "Plot with title \"Income by incidentals\""
      ]
     },
     "metadata": {},
     "output_type": "display_data"
    },
    {
     "data": {
      "image/png": "[encoded data removed]",
      "text/plain": [
       "Plot with title \"Genre by incidentals\""
      ]
     },
     "metadata": {},
     "output_type": "display_data"
    }
   ],
   "source": [
    "# Boxplot of income by incidentals\n",
    "boxplot(minmaxIncome~Incidentals,data=videostore, main=\"Income by incidentals\",\n",
    "        xlab=\"Incidentals\", ylab=\"Income\") \n",
    "#Income does not affect the incidentals.\n",
    "# Boxplot of Genre by incidentals\n",
    "boxplot(BinarizedGenre~Incidentals,data=videostore, main=\"Genre by incidentals\",\n",
    "        xlab=\"Incidentals\", ylab=\"Genre\") \n",
    "#More movies with action genre should increase the incidentals."
   ]
  },
  {
   "cell_type": "markdown",
   "metadata": {},
   "source": [
    "## Write dataframe to a csv file for good customers. "
   ]
  },
  {
   "cell_type": "code",
   "execution_count": 78,
   "metadata": {
    "collapsed": true
   },
   "outputs": [],
   "source": [
    "\n",
    "#Write dataframe to a csv file(E to I).\n",
    "write.csv(videostoregoodcust, file = \"videostoreEtoI.csv\")"
   ]
  }
 ],
 "metadata": {
  "anaconda-cloud": {},
  "kernelspec": {
   "display_name": "R",
   "language": "R",
   "name": "ir"
  },
  "language_info": {
   "codemirror_mode": "r",
   "file_extension": ".r",
   "mimetype": "text/x-r-source",
   "name": "R",
   "pygments_lexer": "r",
   "version": "3.3.1"
  }
 },
 "nbformat": 4,
 "nbformat_minor": 1
}
