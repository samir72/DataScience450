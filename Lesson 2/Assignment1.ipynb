{
 "cells": [
  {
   "cell_type": "markdown",
   "metadata": {},
   "source": [
    "# Assignment # 1 : Low-cost Sensor.\n",
    "## Data Science 450\n",
    "\n",
    "Design a simple, low-cost sensor that can distinguish between red wine and white wine.\n",
    "\n",
    "- What is the percentage of correct classification results (using all attributes)?\n",
    "    - 0.9336188\n",
    "- What is the percentage of correct classification results (using a subset of the attributes)?\n",
    "    - 0.8843683\n",
    "- What is the AUC of your model?\n",
    "    - Area under the curve: 0.9337\n",
    "    - This model is based on the six attributes defined in the assignment.\n",
    "- What is the best AUC that you can achieve?\n",
    "    - This is when I have taken all the attributes, one would assume that its overfitting as all the attributes have been used.\n",
    "    - Area under the curve: 0.9564\n",
    "- Which are the the minimum number of attributes? Why?\n",
    "    - One, I can only use Chlorides and get an AUC of 0.9005 "
   ]
  },
  {
   "cell_type": "markdown",
   "metadata": {},
   "source": [
    "## About the data set\n",
    "\n",
    "In the original form of this dataset, two datasets were created, using red and white wine samples. Here, tese two datasets have been combined into one dataset. The inputs include objective tests (e.g. PH values) and the output is based on sensory data (median of at least 3 evaluations made by wine experts). Each expert graded the wine quality between 0 (very bad) and 10 (very excellent).\n",
    "The two datasets are related to red and white variants of the Portuguese \"Vinho Verde\" wine. Due to privacy and logistic issues, only physicochemical (inputs) and sensory (the output) variables are available (e.g. there is no data about grape types, wine brand, wine selling price, etc.).\n",
    "\n",
    "- **Source**:\n",
    "P. Cortez, A. Cerdeira, F. Almeida, T. Matos and J. Reis. Modeling wine preferences by data mining from physicochemical properties. In Decision Support Systems, Elsevier, 47(4):547-553."
   ]
  },
  {
   "cell_type": "markdown",
   "metadata": {},
   "source": [
    "## Load & examine the data set.\n",
    "\n",
    "The function shown in the cell below loads the data from the .arff file. \n",
    "Execute the code in this cell to load the data into your notebook. Make sure you have the **.arff file** in your working directory!."
   ]
  },
  {
   "cell_type": "code",
   "execution_count": 1,
   "metadata": {
    "collapsed": false
   },
   "outputs": [
    {
     "name": "stdout",
     "output_type": "stream",
     "text": [
      "\f"
     ]
    }
   ],
   "source": [
    "rm(list=ls())\n",
    "# Clear Console:\n",
    "cat(\"\\014\")\n",
    "# Set repeatable random seed.\n",
    "set.seed(123)\n",
    "#Load the dataset.\n",
    "read.wine = function(file = 'RedWhiteWine.arff'){\n",
    "  ## Read the arff file\n",
    "  library(foreign)\n",
    "  wine <- read.arff(file)\n",
    "  wine[complete.cases(wine), ]\n",
    "}"
   ]
  },
  {
   "cell_type": "markdown",
   "metadata": {},
   "source": [
    "## Partition the Data Set.\n",
    "\n",
    "Following function splits the wine dataset into test and training data sets, with exactly 30% going to test and 70% going to training data set."
   ]
  },
  {
   "cell_type": "code",
   "execution_count": 2,
   "metadata": {
    "collapsed": false
   },
   "outputs": [],
   "source": [
    "# Partition the data into test and training data sets.\n",
    "PartitionExact = function(dataSet, fractionOfTest = 0.3)\n",
    "{\n",
    "  #browser()\n",
    "  random <-runif(nrow(dataSet))\n",
    "  quant <- quantile(random,fractionOfTest)\n",
    "  testFlag <- random <= quant\n",
    "  testingData <- dataSet[testFlag, ]\n",
    "  trainingData <- dataSet[!testFlag, ]\n",
    "  dataSetSplit <- list(trainingData=trainingData, testingData=testingData)\n",
    "}"
   ]
  },
  {
   "cell_type": "markdown",
   "metadata": {},
   "source": [
    "## Load and cleanse the file.\n",
    "I am now calling the function \"read.wine\" to load the arff file and then going onto rename few columns so as to remove the blank space with a period so as to use these columns in the forumla for the decision tree modeling.\n"
   ]
  },
  {
   "cell_type": "code",
   "execution_count": 3,
   "metadata": {
    "collapsed": false
   },
   "outputs": [],
   "source": [
    "wine = read.wine()\n",
    "colnames(wine)[1] <- \"fixed.acidity\"\n",
    "colnames(wine)[2] <- \"volatile.acidity\"\n",
    "colnames(wine)[3] <- \"citric.acid\"\n",
    "colnames(wine)[4] <- \"residual.sugar\"\n",
    "colnames(wine)[6] <- \"free.sulfur.dioxide\"\n",
    "colnames(wine)[7] <- \"total.sulfur.dioxide\""
   ]
  },
  {
   "cell_type": "markdown",
   "metadata": {},
   "source": [
    "## Check the structure of the data set.\n",
    "Check the structure of the data set."
   ]
  },
  {
   "cell_type": "code",
   "execution_count": 4,
   "metadata": {
    "collapsed": false
   },
   "outputs": [
    {
     "name": "stdout",
     "output_type": "stream",
     "text": [
      "'data.frame':\t6497 obs. of  13 variables:\n",
      " $ fixed.acidity       : num  7.4 10 7.8 6.9 6.8 6.2 7.7 6.6 7.5 6.2 ...\n",
      " $ volatile.acidity    : num  0.29 0.41 0.26 0.32 0.37 0.25 0.27 0.44 0.18 0.22 ...\n",
      " $ citric.acid         : num  0.5 0.45 0.27 0.3 0.28 0.44 0.49 0.15 0.39 0.27 ...\n",
      " $ residual.sugar      : num  1.8 6.2 1.9 1.8 1.9 15.8 1.8 2.1 1.9 1.5 ...\n",
      " $ chlorides           : num  0.042 0.071 0.051 0.036 0.024 0.057 0.041 0.076 0.054 0.064 ...\n",
      " $ free.sulfur.dioxide : num  35 6 52 28 64 39 23 22 23 20 ...\n",
      " $ total.sulfur.dioxide: num  127 14 195 117 106 167 86 53 91 132 ...\n",
      " $ density             : num  0.994 0.997 0.993 0.993 0.99 ...\n",
      " $ pH                  : num  3.45 3.21 3.23 3.24 3.45 3.14 3.16 3.32 3.27 3.22 ...\n",
      " $ sulphates           : num  0.5 0.49 0.5 0.48 0.6 0.51 0.42 0.62 0.45 0.46 ...\n",
      " $ alcohol             : num  10.2 11.8 10.9 11 12.6 9.2 12.5 9.3 10.3 9.2 ...\n",
      " $ R/W                 : Factor w/ 2 levels \"R\",\"W\": 2 1 2 2 2 2 2 1 2 2 ...\n",
      " $ quality             : num  7 7 6 6 8 5 6 5 6 6 ...\n"
     ]
    }
   ],
   "source": [
    "#Check out the structure of the cleansed object.\n",
    "str(wine)"
   ]
  },
  {
   "cell_type": "markdown",
   "metadata": {},
   "source": [
    "## Adding new numeric attribute based on R/W\n",
    "This column is being added for training the model. All columns with 'W' will be stored as 0 and 'R' as 1."
   ]
  },
  {
   "cell_type": "code",
   "execution_count": 5,
   "metadata": {
    "collapsed": false
   },
   "outputs": [
    {
     "name": "stdout",
     "output_type": "stream",
     "text": [
      "'data.frame':\t6497 obs. of  14 variables:\n",
      " $ fixed.acidity       : num  7.4 10 7.8 6.9 6.8 6.2 7.7 6.6 7.5 6.2 ...\n",
      " $ volatile.acidity    : num  0.29 0.41 0.26 0.32 0.37 0.25 0.27 0.44 0.18 0.22 ...\n",
      " $ citric.acid         : num  0.5 0.45 0.27 0.3 0.28 0.44 0.49 0.15 0.39 0.27 ...\n",
      " $ residual.sugar      : num  1.8 6.2 1.9 1.8 1.9 15.8 1.8 2.1 1.9 1.5 ...\n",
      " $ chlorides           : num  0.042 0.071 0.051 0.036 0.024 0.057 0.041 0.076 0.054 0.064 ...\n",
      " $ free.sulfur.dioxide : num  35 6 52 28 64 39 23 22 23 20 ...\n",
      " $ total.sulfur.dioxide: num  127 14 195 117 106 167 86 53 91 132 ...\n",
      " $ density             : num  0.994 0.997 0.993 0.993 0.99 ...\n",
      " $ pH                  : num  3.45 3.21 3.23 3.24 3.45 3.14 3.16 3.32 3.27 3.22 ...\n",
      " $ sulphates           : num  0.5 0.49 0.5 0.48 0.6 0.51 0.42 0.62 0.45 0.46 ...\n",
      " $ alcohol             : num  10.2 11.8 10.9 11 12.6 9.2 12.5 9.3 10.3 9.2 ...\n",
      " $ R/W                 : Factor w/ 2 levels \"R\",\"W\": 2 1 2 2 2 2 2 1 2 2 ...\n",
      " $ quality             : num  7 7 6 6 8 5 6 5 6 6 ...\n",
      " $ kind                : num  0 1 0 0 0 0 0 1 0 0 ...\n"
     ]
    }
   ],
   "source": [
    "#Adding a new numerica attribute based on the R/W column.\n",
    "wine$kind <- as.numeric(wine$`R/W` == \"R\")\n",
    "str(wine)"
   ]
  },
  {
   "cell_type": "markdown",
   "metadata": {},
   "source": [
    "## Data Set Head and Tail.\n",
    "- Check the head and tail of the dataset to get a sense of the data."
   ]
  },
  {
   "cell_type": "code",
   "execution_count": 6,
   "metadata": {
    "collapsed": false
   },
   "outputs": [
    {
     "data": {
      "text/html": [
       "<table>\n",
       "<thead><tr><th scope=col>fixed.acidity</th><th scope=col>volatile.acidity</th><th scope=col>citric.acid</th><th scope=col>residual.sugar</th><th scope=col>chlorides</th><th scope=col>free.sulfur.dioxide</th><th scope=col>total.sulfur.dioxide</th><th scope=col>density</th><th scope=col>pH</th><th scope=col>sulphates</th><th scope=col>alcohol</th><th scope=col>R/W</th><th scope=col>quality</th><th scope=col>kind</th></tr></thead>\n",
       "<tbody>\n",
       "\t<tr><td> 7.4   </td><td>0.29   </td><td>0.50   </td><td> 1.8   </td><td>0.042  </td><td>35     </td><td>127    </td><td>0.99370</td><td>3.45   </td><td>0.50   </td><td>10.2   </td><td>W      </td><td>7      </td><td>0      </td></tr>\n",
       "\t<tr><td>10.0   </td><td>0.41   </td><td>0.45   </td><td> 6.2   </td><td>0.071  </td><td> 6     </td><td> 14    </td><td>0.99702</td><td>3.21   </td><td>0.49   </td><td>11.8   </td><td>R      </td><td>7      </td><td>1      </td></tr>\n",
       "\t<tr><td> 7.8   </td><td>0.26   </td><td>0.27   </td><td> 1.9   </td><td>0.051  </td><td>52     </td><td>195    </td><td>0.99280</td><td>3.23   </td><td>0.50   </td><td>10.9   </td><td>W      </td><td>6      </td><td>0      </td></tr>\n",
       "\t<tr><td> 6.9   </td><td>0.32   </td><td>0.30   </td><td> 1.8   </td><td>0.036  </td><td>28     </td><td>117    </td><td>0.99269</td><td>3.24   </td><td>0.48   </td><td>11.0   </td><td>W      </td><td>6      </td><td>0      </td></tr>\n",
       "\t<tr><td> 6.8   </td><td>0.37   </td><td>0.28   </td><td> 1.9   </td><td>0.024  </td><td>64     </td><td>106    </td><td>0.98993</td><td>3.45   </td><td>0.60   </td><td>12.6   </td><td>W      </td><td>8      </td><td>0      </td></tr>\n",
       "\t<tr><td> 6.2   </td><td>0.25   </td><td>0.44   </td><td>15.8   </td><td>0.057  </td><td>39     </td><td>167    </td><td>0.99804</td><td>3.14   </td><td>0.51   </td><td> 9.2   </td><td>W      </td><td>5      </td><td>0      </td></tr>\n",
       "</tbody>\n",
       "</table>\n"
      ],
      "text/latex": [
       "\\begin{tabular}{r|llllllllllllll}\n",
       " fixed.acidity & volatile.acidity & citric.acid & residual.sugar & chlorides & free.sulfur.dioxide & total.sulfur.dioxide & density & pH & sulphates & alcohol & R/W & quality & kind\\\\\n",
       "\\hline\n",
       "\t  7.4    & 0.29    & 0.50    &  1.8    & 0.042   & 35      & 127     & 0.99370 & 3.45    & 0.50    & 10.2    & W       & 7       & 0      \\\\\n",
       "\t 10.0    & 0.41    & 0.45    &  6.2    & 0.071   &  6      &  14     & 0.99702 & 3.21    & 0.49    & 11.8    & R       & 7       & 1      \\\\\n",
       "\t  7.8    & 0.26    & 0.27    &  1.9    & 0.051   & 52      & 195     & 0.99280 & 3.23    & 0.50    & 10.9    & W       & 6       & 0      \\\\\n",
       "\t  6.9    & 0.32    & 0.30    &  1.8    & 0.036   & 28      & 117     & 0.99269 & 3.24    & 0.48    & 11.0    & W       & 6       & 0      \\\\\n",
       "\t  6.8    & 0.37    & 0.28    &  1.9    & 0.024   & 64      & 106     & 0.98993 & 3.45    & 0.60    & 12.6    & W       & 8       & 0      \\\\\n",
       "\t  6.2    & 0.25    & 0.44    & 15.8    & 0.057   & 39      & 167     & 0.99804 & 3.14    & 0.51    &  9.2    & W       & 5       & 0      \\\\\n",
       "\\end{tabular}\n"
      ],
      "text/markdown": [
       "\n",
       "fixed.acidity | volatile.acidity | citric.acid | residual.sugar | chlorides | free.sulfur.dioxide | total.sulfur.dioxide | density | pH | sulphates | alcohol | R/W | quality | kind | \n",
       "|---|---|---|---|---|---|\n",
       "|  7.4    | 0.29    | 0.50    |  1.8    | 0.042   | 35      | 127     | 0.99370 | 3.45    | 0.50    | 10.2    | W       | 7       | 0       | \n",
       "| 10.0    | 0.41    | 0.45    |  6.2    | 0.071   |  6      |  14     | 0.99702 | 3.21    | 0.49    | 11.8    | R       | 7       | 1       | \n",
       "|  7.8    | 0.26    | 0.27    |  1.9    | 0.051   | 52      | 195     | 0.99280 | 3.23    | 0.50    | 10.9    | W       | 6       | 0       | \n",
       "|  6.9    | 0.32    | 0.30    |  1.8    | 0.036   | 28      | 117     | 0.99269 | 3.24    | 0.48    | 11.0    | W       | 6       | 0       | \n",
       "|  6.8    | 0.37    | 0.28    |  1.9    | 0.024   | 64      | 106     | 0.98993 | 3.45    | 0.60    | 12.6    | W       | 8       | 0       | \n",
       "|  6.2    | 0.25    | 0.44    | 15.8    | 0.057   | 39      | 167     | 0.99804 | 3.14    | 0.51    |  9.2    | W       | 5       | 0       | \n",
       "\n",
       "\n"
      ],
      "text/plain": [
       "  fixed.acidity volatile.acidity citric.acid residual.sugar chlorides\n",
       "1  7.4          0.29             0.50         1.8           0.042    \n",
       "2 10.0          0.41             0.45         6.2           0.071    \n",
       "3  7.8          0.26             0.27         1.9           0.051    \n",
       "4  6.9          0.32             0.30         1.8           0.036    \n",
       "5  6.8          0.37             0.28         1.9           0.024    \n",
       "6  6.2          0.25             0.44        15.8           0.057    \n",
       "  free.sulfur.dioxide total.sulfur.dioxide density pH   sulphates alcohol R/W\n",
       "1 35                  127                  0.99370 3.45 0.50      10.2    W  \n",
       "2  6                   14                  0.99702 3.21 0.49      11.8    R  \n",
       "3 52                  195                  0.99280 3.23 0.50      10.9    W  \n",
       "4 28                  117                  0.99269 3.24 0.48      11.0    W  \n",
       "5 64                  106                  0.98993 3.45 0.60      12.6    W  \n",
       "6 39                  167                  0.99804 3.14 0.51       9.2    W  \n",
       "  quality kind\n",
       "1 7       0   \n",
       "2 7       1   \n",
       "3 6       0   \n",
       "4 6       0   \n",
       "5 8       0   \n",
       "6 5       0   "
      ]
     },
     "metadata": {},
     "output_type": "display_data"
    },
    {
     "data": {
      "text/html": [
       "<table>\n",
       "<thead><tr><th></th><th scope=col>fixed.acidity</th><th scope=col>volatile.acidity</th><th scope=col>citric.acid</th><th scope=col>residual.sugar</th><th scope=col>chlorides</th><th scope=col>free.sulfur.dioxide</th><th scope=col>total.sulfur.dioxide</th><th scope=col>density</th><th scope=col>pH</th><th scope=col>sulphates</th><th scope=col>alcohol</th><th scope=col>R/W</th><th scope=col>quality</th><th scope=col>kind</th></tr></thead>\n",
       "<tbody>\n",
       "\t<tr><th scope=row>6492</th><td>8.1    </td><td>0.27   </td><td>0.41   </td><td>1.5    </td><td>0.033  </td><td>11     </td><td> 63    </td><td>0.99080</td><td>2.99   </td><td>0.56   </td><td>12.0   </td><td>W      </td><td>5      </td><td>0      </td></tr>\n",
       "\t<tr><th scope=row>6493</th><td>5.6    </td><td>0.49   </td><td>0.13   </td><td>4.5    </td><td>0.039  </td><td>17     </td><td>116    </td><td>0.99070</td><td>3.42   </td><td>0.90   </td><td>13.7   </td><td>W      </td><td>7      </td><td>0      </td></tr>\n",
       "\t<tr><th scope=row>6494</th><td>7.9    </td><td>0.22   </td><td>0.49   </td><td>3.8    </td><td>0.042  </td><td>26     </td><td>105    </td><td>0.99300</td><td>3.10   </td><td>0.39   </td><td>10.5   </td><td>W      </td><td>5      </td><td>0      </td></tr>\n",
       "\t<tr><th scope=row>6495</th><td>5.5    </td><td>0.17   </td><td>0.23   </td><td>2.9    </td><td>0.039  </td><td>10     </td><td>108    </td><td>0.99243</td><td>3.28   </td><td>0.50   </td><td>10.0   </td><td>W      </td><td>5      </td><td>0      </td></tr>\n",
       "\t<tr><th scope=row>6496</th><td>7.8    </td><td>0.60   </td><td>0.26   </td><td>2.0    </td><td>0.080  </td><td>31     </td><td>131    </td><td>0.99622</td><td>3.21   </td><td>0.52   </td><td> 9.9   </td><td>R      </td><td>5      </td><td>1      </td></tr>\n",
       "\t<tr><th scope=row>6497</th><td>8.1    </td><td>0.50   </td><td>0.47   </td><td>1.1    </td><td>0.037  </td><td>23     </td><td>126    </td><td>0.99380</td><td>3.21   </td><td>0.42   </td><td>10.9   </td><td>W      </td><td>5      </td><td>0      </td></tr>\n",
       "</tbody>\n",
       "</table>\n"
      ],
      "text/latex": [
       "\\begin{tabular}{r|llllllllllllll}\n",
       "  & fixed.acidity & volatile.acidity & citric.acid & residual.sugar & chlorides & free.sulfur.dioxide & total.sulfur.dioxide & density & pH & sulphates & alcohol & R/W & quality & kind\\\\\n",
       "\\hline\n",
       "\t6492 & 8.1     & 0.27    & 0.41    & 1.5     & 0.033   & 11      &  63     & 0.99080 & 2.99    & 0.56    & 12.0    & W       & 5       & 0      \\\\\n",
       "\t6493 & 5.6     & 0.49    & 0.13    & 4.5     & 0.039   & 17      & 116     & 0.99070 & 3.42    & 0.90    & 13.7    & W       & 7       & 0      \\\\\n",
       "\t6494 & 7.9     & 0.22    & 0.49    & 3.8     & 0.042   & 26      & 105     & 0.99300 & 3.10    & 0.39    & 10.5    & W       & 5       & 0      \\\\\n",
       "\t6495 & 5.5     & 0.17    & 0.23    & 2.9     & 0.039   & 10      & 108     & 0.99243 & 3.28    & 0.50    & 10.0    & W       & 5       & 0      \\\\\n",
       "\t6496 & 7.8     & 0.60    & 0.26    & 2.0     & 0.080   & 31      & 131     & 0.99622 & 3.21    & 0.52    &  9.9    & R       & 5       & 1      \\\\\n",
       "\t6497 & 8.1     & 0.50    & 0.47    & 1.1     & 0.037   & 23      & 126     & 0.99380 & 3.21    & 0.42    & 10.9    & W       & 5       & 0      \\\\\n",
       "\\end{tabular}\n"
      ],
      "text/markdown": [
       "\n",
       "| <!--/--> | fixed.acidity | volatile.acidity | citric.acid | residual.sugar | chlorides | free.sulfur.dioxide | total.sulfur.dioxide | density | pH | sulphates | alcohol | R/W | quality | kind | \n",
       "|---|---|---|---|---|---|\n",
       "| 6492 | 8.1     | 0.27    | 0.41    | 1.5     | 0.033   | 11      |  63     | 0.99080 | 2.99    | 0.56    | 12.0    | W       | 5       | 0       | \n",
       "| 6493 | 5.6     | 0.49    | 0.13    | 4.5     | 0.039   | 17      | 116     | 0.99070 | 3.42    | 0.90    | 13.7    | W       | 7       | 0       | \n",
       "| 6494 | 7.9     | 0.22    | 0.49    | 3.8     | 0.042   | 26      | 105     | 0.99300 | 3.10    | 0.39    | 10.5    | W       | 5       | 0       | \n",
       "| 6495 | 5.5     | 0.17    | 0.23    | 2.9     | 0.039   | 10      | 108     | 0.99243 | 3.28    | 0.50    | 10.0    | W       | 5       | 0       | \n",
       "| 6496 | 7.8     | 0.60    | 0.26    | 2.0     | 0.080   | 31      | 131     | 0.99622 | 3.21    | 0.52    |  9.9    | R       | 5       | 1       | \n",
       "| 6497 | 8.1     | 0.50    | 0.47    | 1.1     | 0.037   | 23      | 126     | 0.99380 | 3.21    | 0.42    | 10.9    | W       | 5       | 0       | \n",
       "\n",
       "\n"
      ],
      "text/plain": [
       "     fixed.acidity volatile.acidity citric.acid residual.sugar chlorides\n",
       "6492 8.1           0.27             0.41        1.5            0.033    \n",
       "6493 5.6           0.49             0.13        4.5            0.039    \n",
       "6494 7.9           0.22             0.49        3.8            0.042    \n",
       "6495 5.5           0.17             0.23        2.9            0.039    \n",
       "6496 7.8           0.60             0.26        2.0            0.080    \n",
       "6497 8.1           0.50             0.47        1.1            0.037    \n",
       "     free.sulfur.dioxide total.sulfur.dioxide density pH   sulphates alcohol\n",
       "6492 11                   63                  0.99080 2.99 0.56      12.0   \n",
       "6493 17                  116                  0.99070 3.42 0.90      13.7   \n",
       "6494 26                  105                  0.99300 3.10 0.39      10.5   \n",
       "6495 10                  108                  0.99243 3.28 0.50      10.0   \n",
       "6496 31                  131                  0.99622 3.21 0.52       9.9   \n",
       "6497 23                  126                  0.99380 3.21 0.42      10.9   \n",
       "     R/W quality kind\n",
       "6492 W   5       0   \n",
       "6493 W   7       0   \n",
       "6494 W   5       0   \n",
       "6495 W   5       0   \n",
       "6496 R   5       1   \n",
       "6497 W   5       0   "
      ]
     },
     "metadata": {},
     "output_type": "display_data"
    }
   ],
   "source": [
    "head(wine)\n",
    "tail(wine)"
   ]
  },
  {
   "cell_type": "markdown",
   "metadata": {},
   "source": [
    "## Remove Columns\n",
    "Removing R/W and Quality columns as they would not be required for the modelling exercise."
   ]
  },
  {
   "cell_type": "code",
   "execution_count": 7,
   "metadata": {
    "collapsed": true
   },
   "outputs": [],
   "source": [
    "# Remove R/W column\n",
    "wine$`R/W` <- NULL\n",
    "# Remove Quality column\n",
    "wine$quality <- NULL"
   ]
  },
  {
   "cell_type": "markdown",
   "metadata": {},
   "source": [
    "### Summary statistics\n",
    "All the columns are num or integer hence we can calculate the summary of the complete dataset.\n",
    "\n",
    "Execute the code in the cell below and note the result."
   ]
  },
  {
   "cell_type": "code",
   "execution_count": 8,
   "metadata": {
    "collapsed": false
   },
   "outputs": [
    {
     "data": {
      "text/plain": [
       "$fixed.acidity\n",
       "   Min. 1st Qu.  Median    Mean 3rd Qu.    Max. \n",
       "  3.800   6.400   7.000   7.215   7.700  15.900 \n",
       "\n",
       "$volatile.acidity\n",
       "   Min. 1st Qu.  Median    Mean 3rd Qu.    Max. \n",
       " 0.0800  0.2300  0.2900  0.3397  0.4000  1.5800 \n",
       "\n",
       "$citric.acid\n",
       "   Min. 1st Qu.  Median    Mean 3rd Qu.    Max. \n",
       " 0.0000  0.2500  0.3100  0.3186  0.3900  1.6600 \n",
       "\n",
       "$residual.sugar\n",
       "   Min. 1st Qu.  Median    Mean 3rd Qu.    Max. \n",
       "  0.600   1.800   3.000   5.445   8.100  65.800 \n",
       "\n",
       "$chlorides\n",
       "   Min. 1st Qu.  Median    Mean 3rd Qu.    Max. \n",
       "0.00900 0.03800 0.04700 0.05603 0.06500 0.61100 \n",
       "\n",
       "$free.sulfur.dioxide\n",
       "   Min. 1st Qu.  Median    Mean 3rd Qu.    Max. \n",
       "   1.00   17.00   29.00   30.53   41.00  289.00 \n",
       "\n",
       "$total.sulfur.dioxide\n",
       "   Min. 1st Qu.  Median    Mean 3rd Qu.    Max. \n",
       "    6.0    77.0   118.0   115.7   156.0   440.0 \n",
       "\n",
       "$density\n",
       "   Min. 1st Qu.  Median    Mean 3rd Qu.    Max. \n",
       " 0.9871  0.9923  0.9949  0.9947  0.9970  1.0390 \n",
       "\n",
       "$pH\n",
       "   Min. 1st Qu.  Median    Mean 3rd Qu.    Max. \n",
       "  2.720   3.110   3.210   3.219   3.320   4.010 \n",
       "\n",
       "$sulphates\n",
       "   Min. 1st Qu.  Median    Mean 3rd Qu.    Max. \n",
       " 0.2200  0.4300  0.5100  0.5313  0.6000  2.0000 \n",
       "\n",
       "$alcohol\n",
       "   Min. 1st Qu.  Median    Mean 3rd Qu.    Max. \n",
       "   8.00    9.50   10.30   10.49   11.30   14.90 \n",
       "\n",
       "$kind\n",
       "   Min. 1st Qu.  Median    Mean 3rd Qu.    Max. \n",
       " 0.0000  0.0000  0.0000  0.2461  0.0000  1.0000 \n"
      ]
     },
     "metadata": {},
     "output_type": "display_data"
    }
   ],
   "source": [
    "#All the columns are num or integer hence we can calculate the summary of the complete dataset.\n",
    "lapply(wine, summary)"
   ]
  },
  {
   "cell_type": "markdown",
   "metadata": {},
   "source": [
    "# Data Exploration. \n",
    "Create the histrogram of all the numeric attributes. R/W has been been treated as id variables, we can instead see the histogram of \"Kind\" to get a sense of numbers of R & W."
   ]
  },
  {
   "cell_type": "code",
   "execution_count": 9,
   "metadata": {
    "collapsed": false
   },
   "outputs": [
    {
     "name": "stderr",
     "output_type": "stream",
     "text": [
      "Warning message:\n",
      "\"package 'reshape2' was built under R version 3.3.3\"Warning message:\n",
      "\"package 'ggplot2' was built under R version 3.3.3\"No id variables; using all as measure variables\n"
     ]
    },
    {
     "data": {},
     "metadata": {},
     "output_type": "display_data"
    },
    {
     "data": {
      "image/png": "[encoded data removed]",
      "text/plain": [
       "plot without title"
      ]
     },
     "metadata": {},
     "output_type": "display_data"
    }
   ],
   "source": [
    "library(reshape2)\n",
    "library(ggplot2)\n",
    "\n",
    "ggplot(data = melt(wine), mapping = aes(x = value)) + \n",
    "  geom_histogram(bins = 10) + facet_wrap(~variable, scales = 'free_x')"
   ]
  },
  {
   "cell_type": "markdown",
   "metadata": {},
   "source": [
    "### Partition the dataset for the Model.\n",
    "\n",
    "I am now going to call the PartitionExact function to split the dataset into training and test dataset."
   ]
  },
  {
   "cell_type": "code",
   "execution_count": 10,
   "metadata": {
    "collapsed": false
   },
   "outputs": [],
   "source": [
    "WineDataset = PartitionExact(wine)\n",
    "TestWine <- WineDataset$testingData\n",
    "TrainWine <-WineDataset$trainingData"
   ]
  },
  {
   "cell_type": "markdown",
   "metadata": {
    "collapsed": false
   },
   "source": [
    "## Analyse the count and header portion of partitioned datasets"
   ]
  },
  {
   "cell_type": "code",
   "execution_count": 11,
   "metadata": {
    "collapsed": false
   },
   "outputs": [
    {
     "data": {
      "text/html": [
       "4548"
      ],
      "text/latex": [
       "4548"
      ],
      "text/markdown": [
       "4548"
      ],
      "text/plain": [
       "[1] 4548"
      ]
     },
     "metadata": {},
     "output_type": "display_data"
    },
    {
     "data": {
      "text/html": [
       "<table>\n",
       "<thead><tr><th></th><th scope=col>fixed.acidity</th><th scope=col>volatile.acidity</th><th scope=col>citric.acid</th><th scope=col>residual.sugar</th><th scope=col>chlorides</th><th scope=col>free.sulfur.dioxide</th><th scope=col>total.sulfur.dioxide</th><th scope=col>density</th><th scope=col>pH</th><th scope=col>sulphates</th><th scope=col>alcohol</th><th scope=col>kind</th></tr></thead>\n",
       "<tbody>\n",
       "\t<tr><th scope=row>2</th><td>10.0   </td><td>0.41   </td><td>0.45   </td><td>6.2    </td><td>0.071  </td><td> 6     </td><td> 14    </td><td>0.99702</td><td>3.21   </td><td>0.49   </td><td>11.8   </td><td>1      </td></tr>\n",
       "\t<tr><th scope=row>3</th><td> 7.8   </td><td>0.26   </td><td>0.27   </td><td>1.9    </td><td>0.051  </td><td>52     </td><td>195    </td><td>0.99280</td><td>3.23   </td><td>0.50   </td><td>10.9   </td><td>0      </td></tr>\n",
       "\t<tr><th scope=row>4</th><td> 6.9   </td><td>0.32   </td><td>0.30   </td><td>1.8    </td><td>0.036  </td><td>28     </td><td>117    </td><td>0.99269</td><td>3.24   </td><td>0.48   </td><td>11.0   </td><td>0      </td></tr>\n",
       "\t<tr><th scope=row>5</th><td> 6.8   </td><td>0.37   </td><td>0.28   </td><td>1.9    </td><td>0.024  </td><td>64     </td><td>106    </td><td>0.98993</td><td>3.45   </td><td>0.60   </td><td>12.6   </td><td>0      </td></tr>\n",
       "\t<tr><th scope=row>7</th><td> 7.7   </td><td>0.27   </td><td>0.49   </td><td>1.8    </td><td>0.041  </td><td>23     </td><td> 86    </td><td>0.99140</td><td>3.16   </td><td>0.42   </td><td>12.5   </td><td>0      </td></tr>\n",
       "\t<tr><th scope=row>8</th><td> 6.6   </td><td>0.44   </td><td>0.15   </td><td>2.1    </td><td>0.076  </td><td>22     </td><td> 53    </td><td>0.99570</td><td>3.32   </td><td>0.62   </td><td> 9.3   </td><td>1      </td></tr>\n",
       "</tbody>\n",
       "</table>\n"
      ],
      "text/latex": [
       "\\begin{tabular}{r|llllllllllll}\n",
       "  & fixed.acidity & volatile.acidity & citric.acid & residual.sugar & chlorides & free.sulfur.dioxide & total.sulfur.dioxide & density & pH & sulphates & alcohol & kind\\\\\n",
       "\\hline\n",
       "\t2 & 10.0    & 0.41    & 0.45    & 6.2     & 0.071   &  6      &  14     & 0.99702 & 3.21    & 0.49    & 11.8    & 1      \\\\\n",
       "\t3 &  7.8    & 0.26    & 0.27    & 1.9     & 0.051   & 52      & 195     & 0.99280 & 3.23    & 0.50    & 10.9    & 0      \\\\\n",
       "\t4 &  6.9    & 0.32    & 0.30    & 1.8     & 0.036   & 28      & 117     & 0.99269 & 3.24    & 0.48    & 11.0    & 0      \\\\\n",
       "\t5 &  6.8    & 0.37    & 0.28    & 1.9     & 0.024   & 64      & 106     & 0.98993 & 3.45    & 0.60    & 12.6    & 0      \\\\\n",
       "\t7 &  7.7    & 0.27    & 0.49    & 1.8     & 0.041   & 23      &  86     & 0.99140 & 3.16    & 0.42    & 12.5    & 0      \\\\\n",
       "\t8 &  6.6    & 0.44    & 0.15    & 2.1     & 0.076   & 22      &  53     & 0.99570 & 3.32    & 0.62    &  9.3    & 1      \\\\\n",
       "\\end{tabular}\n"
      ],
      "text/markdown": [
       "\n",
       "| <!--/--> | fixed.acidity | volatile.acidity | citric.acid | residual.sugar | chlorides | free.sulfur.dioxide | total.sulfur.dioxide | density | pH | sulphates | alcohol | kind | \n",
       "|---|---|---|---|---|---|\n",
       "| 2 | 10.0    | 0.41    | 0.45    | 6.2     | 0.071   |  6      |  14     | 0.99702 | 3.21    | 0.49    | 11.8    | 1       | \n",
       "| 3 |  7.8    | 0.26    | 0.27    | 1.9     | 0.051   | 52      | 195     | 0.99280 | 3.23    | 0.50    | 10.9    | 0       | \n",
       "| 4 |  6.9    | 0.32    | 0.30    | 1.8     | 0.036   | 28      | 117     | 0.99269 | 3.24    | 0.48    | 11.0    | 0       | \n",
       "| 5 |  6.8    | 0.37    | 0.28    | 1.9     | 0.024   | 64      | 106     | 0.98993 | 3.45    | 0.60    | 12.6    | 0       | \n",
       "| 7 |  7.7    | 0.27    | 0.49    | 1.8     | 0.041   | 23      |  86     | 0.99140 | 3.16    | 0.42    | 12.5    | 0       | \n",
       "| 8 |  6.6    | 0.44    | 0.15    | 2.1     | 0.076   | 22      |  53     | 0.99570 | 3.32    | 0.62    |  9.3    | 1       | \n",
       "\n",
       "\n"
      ],
      "text/plain": [
       "  fixed.acidity volatile.acidity citric.acid residual.sugar chlorides\n",
       "2 10.0          0.41             0.45        6.2            0.071    \n",
       "3  7.8          0.26             0.27        1.9            0.051    \n",
       "4  6.9          0.32             0.30        1.8            0.036    \n",
       "5  6.8          0.37             0.28        1.9            0.024    \n",
       "7  7.7          0.27             0.49        1.8            0.041    \n",
       "8  6.6          0.44             0.15        2.1            0.076    \n",
       "  free.sulfur.dioxide total.sulfur.dioxide density pH   sulphates alcohol kind\n",
       "2  6                   14                  0.99702 3.21 0.49      11.8    1   \n",
       "3 52                  195                  0.99280 3.23 0.50      10.9    0   \n",
       "4 28                  117                  0.99269 3.24 0.48      11.0    0   \n",
       "5 64                  106                  0.98993 3.45 0.60      12.6    0   \n",
       "7 23                   86                  0.99140 3.16 0.42      12.5    0   \n",
       "8 22                   53                  0.99570 3.32 0.62       9.3    1   "
      ]
     },
     "metadata": {},
     "output_type": "display_data"
    },
    {
     "data": {
      "text/html": [
       "1949"
      ],
      "text/latex": [
       "1949"
      ],
      "text/markdown": [
       "1949"
      ],
      "text/plain": [
       "[1] 1949"
      ]
     },
     "metadata": {},
     "output_type": "display_data"
    },
    {
     "data": {
      "text/html": [
       "<table>\n",
       "<thead><tr><th></th><th scope=col>fixed.acidity</th><th scope=col>volatile.acidity</th><th scope=col>citric.acid</th><th scope=col>residual.sugar</th><th scope=col>chlorides</th><th scope=col>free.sulfur.dioxide</th><th scope=col>total.sulfur.dioxide</th><th scope=col>density</th><th scope=col>pH</th><th scope=col>sulphates</th><th scope=col>alcohol</th><th scope=col>kind</th></tr></thead>\n",
       "<tbody>\n",
       "\t<tr><th scope=row>1</th><td>7.4    </td><td>0.29   </td><td>0.50   </td><td> 1.8   </td><td>0.042  </td><td>35     </td><td>127    </td><td>0.99370</td><td>3.45   </td><td>0.50   </td><td>10.2   </td><td>0      </td></tr>\n",
       "\t<tr><th scope=row>6</th><td>6.2    </td><td>0.25   </td><td>0.44   </td><td>15.8   </td><td>0.057  </td><td>39     </td><td>167    </td><td>0.99804</td><td>3.14   </td><td>0.51   </td><td> 9.2   </td><td>0      </td></tr>\n",
       "\t<tr><th scope=row>15</th><td>7.3    </td><td>0.30   </td><td>0.74   </td><td>13.5   </td><td>0.039  </td><td>46     </td><td>165    </td><td>0.99820</td><td>3.02   </td><td>0.40   </td><td> 8.7   </td><td>0      </td></tr>\n",
       "\t<tr><th scope=row>17</th><td>7.0    </td><td>0.20   </td><td>0.37   </td><td> 2.0   </td><td>0.030  </td><td>26     </td><td>136    </td><td>0.99320</td><td>3.28   </td><td>0.61   </td><td>10.2   </td><td>0      </td></tr>\n",
       "\t<tr><th scope=row>18</th><td>6.3    </td><td>0.35   </td><td>0.30   </td><td> 5.7   </td><td>0.035  </td><td> 8     </td><td> 97    </td><td>0.99270</td><td>3.27   </td><td>0.41   </td><td>11.0   </td><td>0      </td></tr>\n",
       "\t<tr><th scope=row>29</th><td>8.4    </td><td>0.29   </td><td>0.29   </td><td> 1.1   </td><td>0.032  </td><td> 4     </td><td> 55    </td><td>0.99080</td><td>2.91   </td><td>0.32   </td><td>11.4   </td><td>0      </td></tr>\n",
       "</tbody>\n",
       "</table>\n"
      ],
      "text/latex": [
       "\\begin{tabular}{r|llllllllllll}\n",
       "  & fixed.acidity & volatile.acidity & citric.acid & residual.sugar & chlorides & free.sulfur.dioxide & total.sulfur.dioxide & density & pH & sulphates & alcohol & kind\\\\\n",
       "\\hline\n",
       "\t1 & 7.4     & 0.29    & 0.50    &  1.8    & 0.042   & 35      & 127     & 0.99370 & 3.45    & 0.50    & 10.2    & 0      \\\\\n",
       "\t6 & 6.2     & 0.25    & 0.44    & 15.8    & 0.057   & 39      & 167     & 0.99804 & 3.14    & 0.51    &  9.2    & 0      \\\\\n",
       "\t15 & 7.3     & 0.30    & 0.74    & 13.5    & 0.039   & 46      & 165     & 0.99820 & 3.02    & 0.40    &  8.7    & 0      \\\\\n",
       "\t17 & 7.0     & 0.20    & 0.37    &  2.0    & 0.030   & 26      & 136     & 0.99320 & 3.28    & 0.61    & 10.2    & 0      \\\\\n",
       "\t18 & 6.3     & 0.35    & 0.30    &  5.7    & 0.035   &  8      &  97     & 0.99270 & 3.27    & 0.41    & 11.0    & 0      \\\\\n",
       "\t29 & 8.4     & 0.29    & 0.29    &  1.1    & 0.032   &  4      &  55     & 0.99080 & 2.91    & 0.32    & 11.4    & 0      \\\\\n",
       "\\end{tabular}\n"
      ],
      "text/markdown": [
       "\n",
       "| <!--/--> | fixed.acidity | volatile.acidity | citric.acid | residual.sugar | chlorides | free.sulfur.dioxide | total.sulfur.dioxide | density | pH | sulphates | alcohol | kind | \n",
       "|---|---|---|---|---|---|\n",
       "| 1 | 7.4     | 0.29    | 0.50    |  1.8    | 0.042   | 35      | 127     | 0.99370 | 3.45    | 0.50    | 10.2    | 0       | \n",
       "| 6 | 6.2     | 0.25    | 0.44    | 15.8    | 0.057   | 39      | 167     | 0.99804 | 3.14    | 0.51    |  9.2    | 0       | \n",
       "| 15 | 7.3     | 0.30    | 0.74    | 13.5    | 0.039   | 46      | 165     | 0.99820 | 3.02    | 0.40    |  8.7    | 0       | \n",
       "| 17 | 7.0     | 0.20    | 0.37    |  2.0    | 0.030   | 26      | 136     | 0.99320 | 3.28    | 0.61    | 10.2    | 0       | \n",
       "| 18 | 6.3     | 0.35    | 0.30    |  5.7    | 0.035   |  8      |  97     | 0.99270 | 3.27    | 0.41    | 11.0    | 0       | \n",
       "| 29 | 8.4     | 0.29    | 0.29    |  1.1    | 0.032   |  4      |  55     | 0.99080 | 2.91    | 0.32    | 11.4    | 0       | \n",
       "\n",
       "\n"
      ],
      "text/plain": [
       "   fixed.acidity volatile.acidity citric.acid residual.sugar chlorides\n",
       "1  7.4           0.29             0.50         1.8           0.042    \n",
       "6  6.2           0.25             0.44        15.8           0.057    \n",
       "15 7.3           0.30             0.74        13.5           0.039    \n",
       "17 7.0           0.20             0.37         2.0           0.030    \n",
       "18 6.3           0.35             0.30         5.7           0.035    \n",
       "29 8.4           0.29             0.29         1.1           0.032    \n",
       "   free.sulfur.dioxide total.sulfur.dioxide density pH   sulphates alcohol kind\n",
       "1  35                  127                  0.99370 3.45 0.50      10.2    0   \n",
       "6  39                  167                  0.99804 3.14 0.51       9.2    0   \n",
       "15 46                  165                  0.99820 3.02 0.40       8.7    0   \n",
       "17 26                  136                  0.99320 3.28 0.61      10.2    0   \n",
       "18  8                   97                  0.99270 3.27 0.41      11.0    0   \n",
       "29  4                   55                  0.99080 2.91 0.32      11.4    0   "
      ]
     },
     "metadata": {},
     "output_type": "display_data"
    }
   ],
   "source": [
    "nrow(TrainWine)\n",
    "head(TrainWine)\n",
    "nrow(TestWine)\n",
    "head(TestWine)"
   ]
  },
  {
   "cell_type": "markdown",
   "metadata": {
    "collapsed": false
   },
   "source": [
    "## Create Decision Tree Model.\n",
    "- Create a decision tree model based on all the attributes.\n",
    "- Create a decision tree model based on the forumula on six attributes, this model will be trained on the training data set."
   ]
  },
  {
   "cell_type": "code",
   "execution_count": 12,
   "metadata": {
    "collapsed": false
   },
   "outputs": [
    {
     "name": "stderr",
     "output_type": "stream",
     "text": [
      "Warning message:\n",
      "\"package 'rpart' was built under R version 3.3.3\""
     ]
    }
   ],
   "source": [
    "library(rpart)\n",
    "formulaAll <- kind ~ .\n",
    "formula <- kind ~ fixed.acidity + volatile.acidity + citric.acid + residual.sugar + chlorides + density\n",
    "formulaOne <- kind ~ chlorides\n",
    "winetreeAll <- rpart(formula = formulaAll, data = TrainWine,method=\"class\")\n",
    "winetreeOne <- rpart(formula = formulaOne, data = TrainWine,method=\"class\")\n",
    "winetree <- rpart(formula = formula, data = TrainWine,method=\"class\")"
   ]
  },
  {
   "cell_type": "markdown",
   "metadata": {
    "collapsed": false
   },
   "source": [
    "## Plot tree\n",
    "- Plot the tree model based on six attributes and all attributes."
   ]
  },
  {
   "cell_type": "code",
   "execution_count": 13,
   "metadata": {
    "collapsed": false
   },
   "outputs": [
    {
     "name": "stderr",
     "output_type": "stream",
     "text": [
      "Warning message:\n",
      "\"package 'rpart.plot' was built under R version 3.3.3\""
     ]
    },
    {
     "data": {
      "image/png": "[encoded data removed]",
      "text/plain": [
       "plot without title"
      ]
     },
     "metadata": {},
     "output_type": "display_data"
    },
    {
     "data": {
      "image/png": "[encoded data removed]",
      "text/plain": [
       "plot without title"
      ]
     },
     "metadata": {},
     "output_type": "display_data"
    },
    {
     "data": {
      "image/png": "[encoded data removed]",
      "text/plain": [
       "plot without title"
      ]
     },
     "metadata": {},
     "output_type": "display_data"
    }
   ],
   "source": [
    "library(\"rpart.plot\")\n",
    "rpart.plot(winetree)\n",
    "rpart.plot(winetreeOne)\n",
    "rpart.plot(winetreeAll)"
   ]
  },
  {
   "cell_type": "markdown",
   "metadata": {},
   "source": [
    "## Prediction based on the model\n",
    "Use the model to make predictions on the test data set."
   ]
  },
  {
   "cell_type": "code",
   "execution_count": 14,
   "metadata": {
    "collapsed": false,
    "scrolled": true
   },
   "outputs": [],
   "source": [
    "kindPrediction <- as.numeric(predict(winetree, newdata = TestWine, type=\"class\"))\n",
    "kindPredictionOne <- as.numeric(predict(winetreeOne, newdata = TestWine, type=\"class\"))\n",
    "kindPredictionAll <- as.numeric(predict(winetreeAll, newdata = TestWine, type=\"class\"))"
   ]
  },
  {
   "cell_type": "markdown",
   "metadata": {},
   "source": [
    "## Calculate the confusion matrix\n",
    "- Cross tabulate the prediction against the 'Kind' attribute in the test dataset for model with all variables.\n",
    "- Cross tabulate the prediction against the 'Kind' attribute in the test dataset for models with six variables."
   ]
  },
  {
   "cell_type": "code",
   "execution_count": 15,
   "metadata": {
    "collapsed": false
   },
   "outputs": [
    {
     "data": {
      "text/plain": [
       "              \n",
       "kindPrediction    0    1\n",
       "             1 1457   54\n",
       "             2   25  413"
      ]
     },
     "metadata": {},
     "output_type": "display_data"
    },
    {
     "data": {
      "text/plain": [
       "                 \n",
       "kindPredictionOne    0    1\n",
       "                1 1368   57\n",
       "                2  114  410"
      ]
     },
     "metadata": {},
     "output_type": "display_data"
    },
    {
     "data": {
      "text/plain": [
       "                 \n",
       "kindPredictionAll    0    1\n",
       "                1 1451   31\n",
       "                2   31  436"
      ]
     },
     "metadata": {},
     "output_type": "display_data"
    }
   ],
   "source": [
    "#Calculate Confusion Matrix with six attributes.\n",
    "crosstab <- table(kindPrediction, TestWine$kind)\n",
    "crosstab\n",
    "\n",
    "#Calculate Confusion Matrix for model with one attribute\n",
    "crosstabOne <- table(kindPredictionOne, TestWine$kind)\n",
    "crosstabOne\n",
    "\n",
    "#Calculate Confusion Matrix for all atributes.\n",
    "crosstabAll <- table(kindPredictionAll, TestWine$kind)\n",
    "crosstabAll"
   ]
  },
  {
   "cell_type": "markdown",
   "metadata": {},
   "source": [
    "## Calculate TPR and FPR.\n",
    "\n",
    "ROC curve is a plot of TPR against FPR and the area this curve is termed as AUC.\n",
    "When you add TPR+FPR it should add up to 1.\n",
    "\n",
    "- Calculate the TPR and FPR for all attributes.\n",
    "- Calculate the TPR and FPR for six attributes."
   ]
  },
  {
   "cell_type": "code",
   "execution_count": 16,
   "metadata": {
    "collapsed": false
   },
   "outputs": [
    {
     "data": {
      "text/html": [
       "0.933618843683084"
      ],
      "text/latex": [
       "0.933618843683084"
      ],
      "text/markdown": [
       "0.933618843683084"
      ],
      "text/plain": [
       "[1] 0.9336188"
      ]
     },
     "metadata": {},
     "output_type": "display_data"
    },
    {
     "data": {
      "text/html": [
       "0.884368308351178"
      ],
      "text/latex": [
       "0.884368308351178"
      ],
      "text/markdown": [
       "0.884368308351178"
      ],
      "text/plain": [
       "[1] 0.8843683"
      ]
     },
     "metadata": {},
     "output_type": "display_data"
    },
    {
     "data": {
      "text/html": [
       "0.877944325481799"
      ],
      "text/latex": [
       "0.877944325481799"
      ],
      "text/markdown": [
       "0.877944325481799"
      ],
      "text/plain": [
       "[1] 0.8779443"
      ]
     },
     "metadata": {},
     "output_type": "display_data"
    },
    {
     "data": {
      "text/html": [
       "0.0663811563169165"
      ],
      "text/latex": [
       "0.0663811563169165"
      ],
      "text/markdown": [
       "0.0663811563169165"
      ],
      "text/plain": [
       "[1] 0.06638116"
      ]
     },
     "metadata": {},
     "output_type": "display_data"
    },
    {
     "data": {
      "text/html": [
       "0.115631691648822"
      ],
      "text/latex": [
       "0.115631691648822"
      ],
      "text/markdown": [
       "0.115631691648822"
      ],
      "text/plain": [
       "[1] 0.1156317"
      ]
     },
     "metadata": {},
     "output_type": "display_data"
    },
    {
     "data": {
      "text/html": [
       "0.122055674518201"
      ],
      "text/latex": [
       "0.122055674518201"
      ],
      "text/markdown": [
       "0.122055674518201"
      ],
      "text/plain": [
       "[1] 0.1220557"
      ]
     },
     "metadata": {},
     "output_type": "display_data"
    },
    {
     "data": {
      "text/html": [
       "1"
      ],
      "text/latex": [
       "1"
      ],
      "text/markdown": [
       "1"
      ],
      "text/plain": [
       "[1] 1"
      ]
     },
     "metadata": {},
     "output_type": "display_data"
    },
    {
     "data": {
      "text/html": [
       "1"
      ],
      "text/latex": [
       "1"
      ],
      "text/markdown": [
       "1"
      ],
      "text/plain": [
       "[1] 1"
      ]
     },
     "metadata": {},
     "output_type": "display_data"
    },
    {
     "data": {
      "text/html": [
       "1"
      ],
      "text/latex": [
       "1"
      ],
      "text/markdown": [
       "1"
      ],
      "text/plain": [
       "[1] 1"
      ]
     },
     "metadata": {},
     "output_type": "display_data"
    }
   ],
   "source": [
    "#Calculate Specificity (TPR)\n",
    "Specificity <- function(Table.X)\n",
    "{\n",
    "  Specificity.X <- (Table.X[2,2])/(Table.X[1,2]+Table.X[2,2])\n",
    "  return(Specificity.X)\n",
    "}\n",
    "#calculate FPR from Confusion MAtrix\n",
    "FPR <- function(Table.X)\n",
    "{\n",
    "  FPR.X <- (Table.X[1,2])/(Table.X[1,2]+Table.X[2,2])\n",
    "  return(FPR.X)\n",
    "}\n",
    "# Calculate TPR for all attributes\n",
    "TPRAll <- Specificity(crosstabAll)\n",
    "TPRAll\n",
    "# Calculate TPR for six attributes\n",
    "TPRSix <- Specificity(crosstab)\n",
    "TPRSix\n",
    "# Calculate TPR for one attributes\n",
    "TPROne <- Specificity(crosstabOne)\n",
    "TPROne\n",
    "# Calculate FPR for all attributes\n",
    "FPRAll <- FPR(crosstabAll)\n",
    "FPRAll\n",
    "# Calculate FPR for six attributes\n",
    "FPRSix <- FPR(crosstab)\n",
    "FPRSix\n",
    "# Calculate FPR for one attributes\n",
    "FPROne <- FPR(crosstabOne)\n",
    "FPROne\n",
    "# Total for all attributes\n",
    "TotalAll <- TPRAll+FPRAll\n",
    "TotalAll\n",
    "# Total for six attributes\n",
    "TotalSix <- TPRSix+FPRSix\n",
    "TotalSix\n",
    "# Total for one attributes\n",
    "TotalOne <- TPROne+FPROne\n",
    "TotalOne"
   ]
  },
  {
   "cell_type": "markdown",
   "metadata": {
    "collapsed": false
   },
   "source": [
    "## Calculate AUC\n",
    "We would be using pROC package to calculate AUC "
   ]
  },
  {
   "cell_type": "code",
   "execution_count": 17,
   "metadata": {
    "collapsed": false
   },
   "outputs": [
    {
     "name": "stderr",
     "output_type": "stream",
     "text": [
      "Warning message:\n",
      "\"package 'pROC' was built under R version 3.3.3\"Type 'citation(\"pROC\")' for a citation.\n",
      "\n",
      "Attaching package: 'pROC'\n",
      "\n",
      "The following objects are masked from 'package:stats':\n",
      "\n",
      "    cov, smooth, var\n",
      "\n"
     ]
    },
    {
     "data": {
      "text/html": [
       "0.933749606267357"
      ],
      "text/latex": [
       "0.933749606267357"
      ],
      "text/markdown": [
       "0.933749606267357"
      ],
      "text/plain": [
       "Area under the curve: 0.9337"
      ]
     },
     "metadata": {},
     "output_type": "display_data"
    },
    {
     "data": {
      "text/html": [
       "0.956350582435334"
      ],
      "text/latex": [
       "0.956350582435334"
      ],
      "text/markdown": [
       "0.956350582435334"
      ],
      "text/plain": [
       "Area under the curve: 0.9564"
      ]
     },
     "metadata": {},
     "output_type": "display_data"
    },
    {
     "data": {
      "text/html": [
       "0.900510624279361"
      ],
      "text/latex": [
       "0.900510624279361"
      ],
      "text/markdown": [
       "0.900510624279361"
      ],
      "text/plain": [
       "Area under the curve: 0.9005"
      ]
     },
     "metadata": {},
     "output_type": "display_data"
    }
   ],
   "source": [
    "#Calculate AUC for six attributes\n",
    "library(pROC)\n",
    "roc_obj <- roc(TestWine$kind, kindPrediction)\n",
    "auc(roc_obj)\n",
    "\n",
    "#Calculate AUC for all attributes\n",
    "roc_obj_All <- roc(TestWine$kind, kindPredictionAll)\n",
    "auc(roc_obj_All)\n",
    "\n",
    "#calculate AUC for one attribute\n",
    "roc_obj_One <- roc(TestWine$kind, kindPredictionOne)\n",
    "auc(roc_obj_One)"
   ]
  }
 ],
 "metadata": {
  "anaconda-cloud": {},
  "kernelspec": {
   "display_name": "R",
   "language": "R",
   "name": "ir"
  },
  "language_info": {
   "codemirror_mode": "r",
   "file_extension": ".r",
   "mimetype": "text/x-r-source",
   "name": "R",
   "pygments_lexer": "r",
   "version": "3.3.1"
  }
 },
 "nbformat": 4,
 "nbformat_minor": 1
}
