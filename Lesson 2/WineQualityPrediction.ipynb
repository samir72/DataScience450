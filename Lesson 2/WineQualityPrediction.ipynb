{
 "cells": [
  {
   "cell_type": "code",
   "execution_count": 7,
   "metadata": {
    "collapsed": false
   },
   "outputs": [],
   "source": [
    "wine <- read.csv('winequality-white.csv',sep = \";\")\n"
   ]
  },
  {
   "cell_type": "code",
   "execution_count": 8,
   "metadata": {
    "collapsed": false
   },
   "outputs": [
    {
     "data": {
      "text/html": [
       "6497"
      ],
      "text/latex": [
       "6497"
      ],
      "text/markdown": [
       "6497"
      ],
      "text/plain": [
       "[1] 6497"
      ]
     },
     "metadata": {},
     "output_type": "display_data"
    }
   ],
   "source": [
    "nrow(wine)"
   ]
  },
  {
   "cell_type": "code",
   "execution_count": 9,
   "metadata": {
    "collapsed": false
   },
   "outputs": [
    {
     "data": {
      "text/html": [
       "<table>\n",
       "<thead><tr><th scope=col>fixed.acidity.volatile.acidity.citric.acid.residual.sugar.chlorides.free.sulfur.dioxide.total.sulfur.dioxide.density.pH.sulphates.alcohol.quality.Class</th></tr></thead>\n",
       "<tbody>\n",
       "\t<tr><td>7.4,0.7,0,1.9,0.076,11,34,0.9978,3.51,0.56,9.4,5,1    </td></tr>\n",
       "\t<tr><td>7.8,0.88,0,2.6,0.098,25,67,0.9968,3.2,0.68,9.8,5,1    </td></tr>\n",
       "\t<tr><td>7.8,0.76,0.04,2.3,0.092,15,54,0.997,3.26,0.65,9.8,5,1 </td></tr>\n",
       "\t<tr><td>11.2,0.28,0.56,1.9,0.075,17,60,0.998,3.16,0.58,9.8,6,1</td></tr>\n",
       "\t<tr><td>7.4,0.7,0,1.9,0.076,11,34,0.9978,3.51,0.56,9.4,5,1    </td></tr>\n",
       "\t<tr><td>7.4,0.66,0,1.8,0.075,13,40,0.9978,3.51,0.56,9.4,5,1   </td></tr>\n",
       "</tbody>\n",
       "</table>\n"
      ],
      "text/latex": [
       "\\begin{tabular}{r|l}\n",
       " fixed.acidity.volatile.acidity.citric.acid.residual.sugar.chlorides.free.sulfur.dioxide.total.sulfur.dioxide.density.pH.sulphates.alcohol.quality.Class\\\\\n",
       "\\hline\n",
       "\t 7.4,0.7,0,1.9,0.076,11,34,0.9978,3.51,0.56,9.4,5,1    \\\\\n",
       "\t 7.8,0.88,0,2.6,0.098,25,67,0.9968,3.2,0.68,9.8,5,1    \\\\\n",
       "\t 7.8,0.76,0.04,2.3,0.092,15,54,0.997,3.26,0.65,9.8,5,1 \\\\\n",
       "\t 11.2,0.28,0.56,1.9,0.075,17,60,0.998,3.16,0.58,9.8,6,1\\\\\n",
       "\t 7.4,0.7,0,1.9,0.076,11,34,0.9978,3.51,0.56,9.4,5,1    \\\\\n",
       "\t 7.4,0.66,0,1.8,0.075,13,40,0.9978,3.51,0.56,9.4,5,1   \\\\\n",
       "\\end{tabular}\n"
      ],
      "text/markdown": [
       "\n",
       "fixed.acidity.volatile.acidity.citric.acid.residual.sugar.chlorides.free.sulfur.dioxide.total.sulfur.dioxide.density.pH.sulphates.alcohol.quality.Class | \n",
       "|---|---|---|---|---|---|\n",
       "| 7.4,0.7,0,1.9,0.076,11,34,0.9978,3.51,0.56,9.4,5,1     | \n",
       "| 7.8,0.88,0,2.6,0.098,25,67,0.9968,3.2,0.68,9.8,5,1     | \n",
       "| 7.8,0.76,0.04,2.3,0.092,15,54,0.997,3.26,0.65,9.8,5,1  | \n",
       "| 11.2,0.28,0.56,1.9,0.075,17,60,0.998,3.16,0.58,9.8,6,1 | \n",
       "| 7.4,0.7,0,1.9,0.076,11,34,0.9978,3.51,0.56,9.4,5,1     | \n",
       "| 7.4,0.66,0,1.8,0.075,13,40,0.9978,3.51,0.56,9.4,5,1    | \n",
       "\n",
       "\n"
      ],
      "text/plain": [
       "  fixed.acidity.volatile.acidity.citric.acid.residual.sugar.chlorides.free.sulfur.dioxide.total.sulfur.dioxide.density.pH.sulphates.alcohol.quality.Class\n",
       "1 7.4,0.7,0,1.9,0.076,11,34,0.9978,3.51,0.56,9.4,5,1                                                                                                     \n",
       "2 7.8,0.88,0,2.6,0.098,25,67,0.9968,3.2,0.68,9.8,5,1                                                                                                     \n",
       "3 7.8,0.76,0.04,2.3,0.092,15,54,0.997,3.26,0.65,9.8,5,1                                                                                                  \n",
       "4 11.2,0.28,0.56,1.9,0.075,17,60,0.998,3.16,0.58,9.8,6,1                                                                                                 \n",
       "5 7.4,0.7,0,1.9,0.076,11,34,0.9978,3.51,0.56,9.4,5,1                                                                                                     \n",
       "6 7.4,0.66,0,1.8,0.075,13,40,0.9978,3.51,0.56,9.4,5,1                                                                                                    "
      ]
     },
     "metadata": {},
     "output_type": "display_data"
    }
   ],
   "source": [
    "head(wine)"
   ]
  },
  {
   "cell_type": "markdown",
   "metadata": {},
   "source": [
    "## Data Exploration"
   ]
  },
  {
   "cell_type": "code",
   "execution_count": 10,
   "metadata": {
    "collapsed": false
   },
   "outputs": [
    {
     "name": "stderr",
     "output_type": "stream",
     "text": [
      "Using fixed.acidity.volatile.acidity.citric.acid.residual.sugar.chlorides.free.sulfur.dioxide.total.sulfur.dioxide.density.pH.sulphates.alcohol.quality.Class as id variables\n"
     ]
    },
    {
     "data": {
      "text/html": [
       "<table>\n",
       "<thead><tr><th scope=col>fixed.acidity.volatile.acidity.citric.acid.residual.sugar.chlorides.free.sulfur.dioxide.total.sulfur.dioxide.density.pH.sulphates.alcohol.quality.Class</th></tr></thead>\n",
       "<tbody>\n",
       "\t<tr><td>7.4,0.7,0,1.9,0.076,11,34,0.9978,3.51,0.56,9.4,5,1    </td></tr>\n",
       "\t<tr><td>7.8,0.88,0,2.6,0.098,25,67,0.9968,3.2,0.68,9.8,5,1    </td></tr>\n",
       "\t<tr><td>7.8,0.76,0.04,2.3,0.092,15,54,0.997,3.26,0.65,9.8,5,1 </td></tr>\n",
       "\t<tr><td>11.2,0.28,0.56,1.9,0.075,17,60,0.998,3.16,0.58,9.8,6,1</td></tr>\n",
       "\t<tr><td>7.4,0.7,0,1.9,0.076,11,34,0.9978,3.51,0.56,9.4,5,1    </td></tr>\n",
       "\t<tr><td>7.4,0.66,0,1.8,0.075,13,40,0.9978,3.51,0.56,9.4,5,1   </td></tr>\n",
       "</tbody>\n",
       "</table>\n"
      ],
      "text/latex": [
       "\\begin{tabular}{r|l}\n",
       " fixed.acidity.volatile.acidity.citric.acid.residual.sugar.chlorides.free.sulfur.dioxide.total.sulfur.dioxide.density.pH.sulphates.alcohol.quality.Class\\\\\n",
       "\\hline\n",
       "\t 7.4,0.7,0,1.9,0.076,11,34,0.9978,3.51,0.56,9.4,5,1    \\\\\n",
       "\t 7.8,0.88,0,2.6,0.098,25,67,0.9968,3.2,0.68,9.8,5,1    \\\\\n",
       "\t 7.8,0.76,0.04,2.3,0.092,15,54,0.997,3.26,0.65,9.8,5,1 \\\\\n",
       "\t 11.2,0.28,0.56,1.9,0.075,17,60,0.998,3.16,0.58,9.8,6,1\\\\\n",
       "\t 7.4,0.7,0,1.9,0.076,11,34,0.9978,3.51,0.56,9.4,5,1    \\\\\n",
       "\t 7.4,0.66,0,1.8,0.075,13,40,0.9978,3.51,0.56,9.4,5,1   \\\\\n",
       "\\end{tabular}\n"
      ],
      "text/markdown": [
       "\n",
       "fixed.acidity.volatile.acidity.citric.acid.residual.sugar.chlorides.free.sulfur.dioxide.total.sulfur.dioxide.density.pH.sulphates.alcohol.quality.Class | \n",
       "|---|---|---|---|---|---|\n",
       "| 7.4,0.7,0,1.9,0.076,11,34,0.9978,3.51,0.56,9.4,5,1     | \n",
       "| 7.8,0.88,0,2.6,0.098,25,67,0.9968,3.2,0.68,9.8,5,1     | \n",
       "| 7.8,0.76,0.04,2.3,0.092,15,54,0.997,3.26,0.65,9.8,5,1  | \n",
       "| 11.2,0.28,0.56,1.9,0.075,17,60,0.998,3.16,0.58,9.8,6,1 | \n",
       "| 7.4,0.7,0,1.9,0.076,11,34,0.9978,3.51,0.56,9.4,5,1     | \n",
       "| 7.4,0.66,0,1.8,0.075,13,40,0.9978,3.51,0.56,9.4,5,1    | \n",
       "\n",
       "\n"
      ],
      "text/plain": [
       "  fixed.acidity.volatile.acidity.citric.acid.residual.sugar.chlorides.free.sulfur.dioxide.total.sulfur.dioxide.density.pH.sulphates.alcohol.quality.Class\n",
       "1 7.4,0.7,0,1.9,0.076,11,34,0.9978,3.51,0.56,9.4,5,1                                                                                                     \n",
       "2 7.8,0.88,0,2.6,0.098,25,67,0.9968,3.2,0.68,9.8,5,1                                                                                                     \n",
       "3 7.8,0.76,0.04,2.3,0.092,15,54,0.997,3.26,0.65,9.8,5,1                                                                                                  \n",
       "4 11.2,0.28,0.56,1.9,0.075,17,60,0.998,3.16,0.58,9.8,6,1                                                                                                 \n",
       "5 7.4,0.7,0,1.9,0.076,11,34,0.9978,3.51,0.56,9.4,5,1                                                                                                     \n",
       "6 7.4,0.66,0,1.8,0.075,13,40,0.9978,3.51,0.56,9.4,5,1                                                                                                    "
      ]
     },
     "metadata": {},
     "output_type": "display_data"
    }
   ],
   "source": [
    "library(reshape2)\n",
    "head(melt(wine))"
   ]
  },
  {
   "cell_type": "code",
   "execution_count": 11,
   "metadata": {
    "collapsed": false
   },
   "outputs": [
    {
     "name": "stderr",
     "output_type": "stream",
     "text": [
      "Using fixed.acidity.volatile.acidity.citric.acid.residual.sugar.chlorides.free.sulfur.dioxide.total.sulfur.dioxide.density.pH.sulphates.alcohol.quality.Class as id variables\n"
     ]
    },
    {
     "data": {},
     "metadata": {},
     "output_type": "display_data"
    },
    {
     "data": {
      "image/png": "[encoded data removed]",
      "text/plain": [
       "plot without title"
      ]
     },
     "metadata": {},
     "output_type": "display_data"
    }
   ],
   "source": [
    "library(ggplot2)\n",
    "ggplot(data = melt(wine), mapping = aes(x = value)) + \n",
    "    geom_histogram(bins = 10) + facet_wrap(~variable, scales = 'free_x')"
   ]
  },
  {
   "cell_type": "markdown",
   "metadata": {},
   "source": [
    "## Data Preparation"
   ]
  },
  {
   "cell_type": "code",
   "execution_count": 12,
   "metadata": {
    "collapsed": false
   },
   "outputs": [
    {
     "ename": "ERROR",
     "evalue": "Error in `$<-.data.frame`(`*tmp*`, \"taste\", value = logical(0)): replacement has 0 rows, data has 6497\n",
     "output_type": "error",
     "traceback": [
      "Error in `$<-.data.frame`(`*tmp*`, \"taste\", value = logical(0)): replacement has 0 rows, data has 6497\nTraceback:\n",
      "1. `$<-`(`*tmp*`, \"taste\", value = logical(0))",
      "2. `$<-.data.frame`(`*tmp*`, \"taste\", value = logical(0))",
      "3. stop(sprintf(ngettext(N, \"replacement has %d row, data has %d\", \n .     \"replacement has %d rows, data has %d\"), N, nrows), domain = NA)"
     ]
    }
   ],
   "source": [
    "wine$taste <- ifelse(wine$quality < 6, 'bad', 'good')\n",
    "wine$taste[wine$quality == 6] <- 'normal'\n",
    "wine$taste <- as.factor(wine$taste)"
   ]
  },
  {
   "cell_type": "code",
   "execution_count": null,
   "metadata": {
    "collapsed": false
   },
   "outputs": [],
   "source": [
    "table(wine$taste)\n"
   ]
  },
  {
   "cell_type": "code",
   "execution_count": null,
   "metadata": {
    "collapsed": false
   },
   "outputs": [],
   "source": [
    "set.seed(123)\n",
    "samp <- sample(nrow(wine), 0.6 * nrow(wine))\n",
    "train <- wine[samp, ]\n",
    "test <- wine[-samp, ]\n",
    "\n",
    "nrow(train)\n",
    "nrow(test)"
   ]
  },
  {
   "cell_type": "code",
   "execution_count": null,
   "metadata": {
    "collapsed": false
   },
   "outputs": [],
   "source": [
    "head(train)"
   ]
  },
  {
   "cell_type": "code",
   "execution_count": null,
   "metadata": {
    "collapsed": false
   },
   "outputs": [],
   "source": [
    "head(test)\n",
    "nrow(test)"
   ]
  },
  {
   "cell_type": "code",
   "execution_count": null,
   "metadata": {
    "collapsed": false
   },
   "outputs": [],
   "source": [
    "# Classification Tree with rpart\n",
    "library(rpart)\n",
    "\n",
    " # grow tree \n",
    "simpletree <- rpart(taste ~ . - quality, data = train,method=\"class\")"
   ]
  },
  {
   "cell_type": "code",
   "execution_count": null,
   "metadata": {
    "collapsed": false
   },
   "outputs": [],
   "source": [
    "simpletree"
   ]
  },
  {
   "cell_type": "code",
   "execution_count": null,
   "metadata": {
    "collapsed": false
   },
   "outputs": [],
   "source": [
    "#Plot tree using rpart.plot\n",
    "library(\"rpart.plot\")\n",
    "rpart.plot(simpletree)"
   ]
  },
  {
   "cell_type": "code",
   "execution_count": null,
   "metadata": {
    "collapsed": false
   },
   "outputs": [],
   "source": [
    "tastePrediction <- predict(simpletree, test[, colnames(wine)], type=\"class\")\n"
   ]
  },
  {
   "cell_type": "code",
   "execution_count": null,
   "metadata": {
    "collapsed": false
   },
   "outputs": [],
   "source": [
    "head(tastePrediction)"
   ]
  },
  {
   "cell_type": "markdown",
   "metadata": {},
   "source": [
    "### Confusion Matrix Examples"
   ]
  },
  {
   "cell_type": "code",
   "execution_count": null,
   "metadata": {
    "collapsed": false
   },
   "outputs": [],
   "source": [
    "xtab <- table(tastePrediction, test$taste)\n",
    "xtab"
   ]
  },
  {
   "cell_type": "code",
   "execution_count": null,
   "metadata": {
    "collapsed": false
   },
   "outputs": [],
   "source": [
    "## Using caret package\n",
    "library(caret)\n",
    "confusionMatrix(xtab)"
   ]
  },
  {
   "cell_type": "markdown",
   "metadata": {},
   "source": [
    "## Ensemble Models - Build a RandomForest Model"
   ]
  },
  {
   "cell_type": "code",
   "execution_count": null,
   "metadata": {
    "collapsed": false
   },
   "outputs": [],
   "source": [
    "library(randomForest)\n",
    "model <- randomForest(taste ~ . - quality, data = train)"
   ]
  },
  {
   "cell_type": "code",
   "execution_count": null,
   "metadata": {
    "collapsed": false
   },
   "outputs": [],
   "source": [
    "model"
   ]
  },
  {
   "cell_type": "code",
   "execution_count": null,
   "metadata": {
    "collapsed": true
   },
   "outputs": [],
   "source": []
  }
 ],
 "metadata": {
  "anaconda-cloud": {},
  "kernelspec": {
   "display_name": "R",
   "language": "R",
   "name": "ir"
  },
  "language_info": {
   "codemirror_mode": "r",
   "file_extension": ".r",
   "mimetype": "text/x-r-source",
   "name": "R",
   "pygments_lexer": "r",
   "version": "3.3.1"
  }
 },
 "nbformat": 4,
 "nbformat_minor": 2
}
