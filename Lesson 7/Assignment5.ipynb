{
 "cells": [
  {
   "cell_type": "markdown",
   "metadata": {},
   "source": [
    "## Assignment 5 – Support Vector Machine.\n",
    "## Data Science 450"
   ]
  },
  {
   "cell_type": "markdown",
   "metadata": {},
   "source": [
    "Answer the following questions:\n",
    "\n",
    "- Using what you have learnt in the lecture, search for additional resources related to the following two approaches.\n",
    "        -- Two-class Support Vector Machine\n",
    "        -- Two-class Locally-Deep Support Vector Machine (MSR) Read - http://research.microsoft.com/en-us/um/people/manik/pubs/Jose13.pdf \n",
    "        \n",
    "Explain what’s the differences between the two algorithms, and provide examples of when you will prefer to use one over the other.\n",
    "\n",
    "**LDSVM is preferable if speed is required to make non-linear SVM predictions while maintaining classification accuracy above an acceptable limit.**\n",
    "**LDSVM is preferable if Linear classifiers are not performing well.**\n",
    "\n",
    "- For this exercise, we will use the veh-prime.arff file, and support vector machines for classification.\n",
    "        -- As a first step you will need to modify the .arff file so that the car, noncar classes are re-placed with 1 and -1 respectively.\n",
    "        -- Default run of SVM on this dataset yields the following numbers.\n",
    "            -- SVM-Type:  C-classification \n",
    "                 -- SVM-Kernel:  radial \n",
    "                    -- cost:  1 \n",
    "                    -- gamma:  0.02777778 \n",
    "                    -- Number of Support Vectors:  371\n",
    "            -- Here are model accuracy numbers.\n",
    "                -- Model Accuracy On Test Dataset :  0.9370079 \n",
    "                -- Model TPR On Test Dataset :  0.8955224 \n",
    "                -- Model FPR On Test Dataset :  0.1044776\n",
    "        -- Consider use 10 fold cross-validation (this should come up as the default)\n",
    "**Model created in this run is better than the default as it can be confirmed by the accuracy numbers.**\n",
    "            -- Run with the these paramaters(elsilon=seq(0,1,0.1), cost=1:100) yielded the following numbers.\n",
    "                -- sampling method: 10-fold cross validation \n",
    "                -- best parameters:\n",
    "                                     elsilon cost\n",
    "                                           0    3\n",
    "\n",
    "                -- best performance: 0.05573446 \n",
    "                -- Given below are accuracy numbers\n",
    "                    -- Model Accuracy On Test Dataset :  0.9566929 \n",
    "                    -- Model TPR On Test Dataset :  0.9402985 \n",
    "                    -- Model FPR On Test Dataset :  0.05970149\n",
    "        -- Try various parameters, and explain what you observe.\n",
    "**Model created in this run is better when you go by \"best Performance\" parameter, accuracy numbers however make the previous model better.**\n",
    "            -- Run with these parameters(elsilon=seq(0,.2,0.1), cost=1:100)) yielded the following numbers.\n",
    "            -- sampling method: 10-fold cross validation \n",
    "            -- best parameters:\n",
    "                                 elsilon cost\n",
    "                                       0    5\n",
    "            -- best performance: 0.05745763 \n",
    "            -- Given below are accuracy numbers.\n",
    "                -- Model Accuracy On Test Dataset :  0.9488189 \n",
    "                -- Model TPR On Test Dataset :  0.9328358 \n",
    "                -- Model FPR On Test Dataset :  0.06716418 "
   ]
  },
  {
   "cell_type": "markdown",
   "metadata": {},
   "source": [
    "## Load & examine the data set.\n",
    "\n",
    "The function shown in the cell below loads the data from the .csv file. \n",
    "Execute the code in this cell to load the data into your notebook. Make sure you have the **.csv file** in your working directory!."
   ]
  },
  {
   "cell_type": "code",
   "execution_count": 1,
   "metadata": {
    "collapsed": false
   },
   "outputs": [
    {
     "name": "stdout",
     "output_type": "stream",
     "text": [
      "\f"
     ]
    },
    {
     "name": "stderr",
     "output_type": "stream",
     "text": [
      "Warning message:\n",
      "\"package 'e1071' was built under R version 3.3.3\""
     ]
    }
   ],
   "source": [
    "rm(list=ls())\n",
    "# Clear Console:\n",
    "cat(\"\\014\")\n",
    "# Set repeatable random seed.\n",
    "set.seed(123)\n",
    "library(e1071)\n",
    "#Load the dataset.\n",
    "read.vehicles = function(file = 'veh-prime.arff.arff'){\n",
    "  ## Read the arff file\n",
    "  library(foreign)\n",
    "  vehicles <- read.arff(file)\n",
    "  vehicles[complete.cases(vehicles), ]\n",
    "}"
   ]
  },
  {
   "cell_type": "markdown",
   "metadata": {},
   "source": [
    "### About the data set.\n",
    "\n",
    "Hypotheical data provided for class assignment."
   ]
  },
  {
   "cell_type": "markdown",
   "metadata": {},
   "source": [
    "## Create functions used in this assignment."
   ]
  },
  {
   "cell_type": "code",
   "execution_count": 2,
   "metadata": {
    "collapsed": true
   },
   "outputs": [],
   "source": [
    "# Partition the data into test and training data sets.\n",
    "PartitionExact = function(dataSet, fractionOfTest = 0.3)\n",
    "{\n",
    "  #  browser()\n",
    "  random <-runif(nrow(dataSet))\n",
    "  quant <- quantile(random,fractionOfTest)\n",
    "  testFlag <- random <= quant\n",
    "  testingData <- dataSet[testFlag, ]\n",
    "  trainingData <- dataSet[!testFlag, ]\n",
    "  dataSetSplit <- list(trainingData=trainingData, testingData=testingData)\n",
    "}\n",
    "\n",
    "#Calculate Specificity (TPR)\n",
    "Specificity <- function(Table.X)\n",
    "{\n",
    "  Specificity.X <- (Table.X[2,2])/(Table.X[1,2]+Table.X[2,2])\n",
    "  return(Specificity.X)\n",
    "}\n",
    "#calculate FPR from Confusion MAtrix\n",
    "FPR <- function(Table.X)\n",
    "{\n",
    "  FPR.X <- (Table.X[1,2])/(Table.X[1,2]+Table.X[2,2])\n",
    "  return(FPR.X)\n",
    "}\n",
    "Accuracy <- function(Table.X)\n",
    "{\n",
    "  Accuracy.X <- (Table.X[1,1]+Table.X[2,2])/(Table.X[1,1]+Table.X[1,2]+Table.X[2,1]+Table.X[2,2])\n",
    "  return(Accuracy.X)\n",
    "}"
   ]
  },
  {
   "cell_type": "markdown",
   "metadata": {},
   "source": [
    "## Load the file.\n",
    "I am now calling the function \"LoadData\" to load the Video_Store.csv file."
   ]
  },
  {
   "cell_type": "code",
   "execution_count": 3,
   "metadata": {
    "collapsed": false
   },
   "outputs": [],
   "source": [
    "# Load and cleanse the csv file.\n",
    "vehicles = read.vehicles()\n"
   ]
  },
  {
   "cell_type": "markdown",
   "metadata": {},
   "source": [
    "## Check data structure."
   ]
  },
  {
   "cell_type": "code",
   "execution_count": 4,
   "metadata": {
    "collapsed": false
   },
   "outputs": [
    {
     "name": "stdout",
     "output_type": "stream",
     "text": [
      "'data.frame':\t846 obs. of  37 variables:\n",
      " $ f0   : num  0.063 -0.037 0 -0.743 -0.939 -0.247 0 0.663 0.001 -0.048 ...\n",
      " $ f1   : num  0.16 -0.325 1.253 -0.082 -1.054 ...\n",
      " $ f2   : num  0.509 -0.626 0.833 -0.626 -0.14 ...\n",
      " $ f3   : num  -0.967 -0.029 -0.97 0.723 0.036 -0.484 -0.032 -0.321 0.008 0.319 ...\n",
      " $ f4   : num  0.058 0.121 1.516 -0.006 -0.766 ...\n",
      " $ f5   : num  0 -0.409 0.014 0 0 0.102 -0.162 0.087 -0.517 -0.259 ...\n",
      " $ f6   : num  0.874 -0.002 -0.378 -0.08 -0.272 -0.001 -0.49 -0.499 -0.472 0.745 ...\n",
      " $ f7   : num  0.271 -0.835 1.197 -0.297 1.077 ...\n",
      " $ f8   : num  1.307 -0.595 0.546 0.166 5.236 ...\n",
      " $ f9   : num  -0.011 -0.253 -0.402 0.311 -0.366 0.729 -0.02 -0.307 0 0.613 ...\n",
      " $ f10  : num  0.311 0.094 0.311 0.094 9.439 ...\n",
      " $ f11  : num  -0.063 0.375 0.017 -0.677 -0.5 0.031 0.509 0.299 0.226 0.284 ...\n",
      " $ f12  : num  -0.414 -0.005 0.07 0.023 0.061 -0.35 -0.135 0.009 -0.962 0.952 ...\n",
      " $ f13  : num  -0.206 -0.597 1.148 -0.747 -0.597 ...\n",
      " $ f14  : num  0.136 0.521 -1.144 0.649 0.521 ...\n",
      " $ f15  : num  0.268 -0.602 -0.092 0.096 0.124 -0.001 -0.328 -0.34 0.768 0.549 ...\n",
      " $ f16  : num  -0.225 -0.611 0.933 -0.611 -0.611 ...\n",
      " $ f17  : num  -0.49 -0.107 -0.003 0.083 0.953 -0.143 0.135 -0.129 -0.219 0.582 ...\n",
      " $ f18  : num  -0.209 -0.001 0.002 0.058 -0.001 -0.763 -0.202 0.11 0 0.215 ...\n",
      " $ f19  : num  0.758 -0.344 0.689 -0.344 -0.275 ...\n",
      " $ f20  : num  -0.402 -0.593 1.095 -0.912 1.668 ...\n",
      " $ f21  : num  0 0.008 0.732 -0.001 -0.003 0.221 0.003 0.367 0.001 0 ...\n",
      " $ f22  : num  -0.345 -0.622 1.104 -0.741 -0.65 ...\n",
      " $ f23  : num  0.322 0.18 0.001 0.765 -0.208 -0.195 0.672 0.283 -0.036 0.07 ...\n",
      " $ f24  : num  0 0.035 -0.64 0.622 0.135 0.002 -0.012 0.78 -0.077 -0.034 ...\n",
      " $ f25  : num  0.286 -0.513 1.392 -1.466 0.409 ...\n",
      " $ f26  : num  -0.329 -0.062 0.072 -1.264 7.284 ...\n",
      " $ f27  : num  -0.924 0.27 -0.408 0.819 0.676 -0.699 0.346 -0.019 -0.609 0.001 ...\n",
      " $ f28  : num  -0.077 0.533 1.55 -0.077 0.533 ...\n",
      " $ f29  : num  0.108 0.152 0.01 -0.099 -0.003 0.003 0.013 -0.693 0.97 -0.022 ...\n",
      " $ f30  : num  -0.003 -0.978 -0.652 -0.001 0.122 -0.841 -0.672 0.027 -0.435 0.462 ...\n",
      " $ f31  : num  0.381 0.157 -0.403 -0.291 -0.179 ...\n",
      " $ f32  : num  -0.314 0.011 -0.151 1.633 -1.449 ...\n",
      " $ f33  : num  0.929 -0.254 0 0.686 0.024 -0.033 0.645 0.35 -0.5 0.838 ...\n",
      " $ f34  : num  0.184 0.453 0.049 1.528 -1.698 ...\n",
      " $ f35  : num  -0.001 -0.621 -0.113 0 0.083 0 -0.566 0.641 -0.123 -0.008 ...\n",
      " $ CLASS: Factor w/ 2 levels \"car\",\"noncar\": 2 2 1 2 2 2 2 2 2 1 ...\n"
     ]
    }
   ],
   "source": [
    "#Check the structure of the dataset.\n",
    "str(vehicles)"
   ]
  },
  {
   "cell_type": "markdown",
   "metadata": {},
   "source": [
    "### View the Head."
   ]
  },
  {
   "cell_type": "code",
   "execution_count": 5,
   "metadata": {
    "collapsed": false
   },
   "outputs": [
    {
     "data": {
      "text/html": [
       "<table>\n",
       "<thead><tr><th scope=col>f0</th><th scope=col>f1</th><th scope=col>f2</th><th scope=col>f3</th><th scope=col>f4</th><th scope=col>f5</th><th scope=col>f6</th><th scope=col>f7</th><th scope=col>f8</th><th scope=col>f9</th><th scope=col>...</th><th scope=col>f27</th><th scope=col>f28</th><th scope=col>f29</th><th scope=col>f30</th><th scope=col>f31</th><th scope=col>f32</th><th scope=col>f33</th><th scope=col>f34</th><th scope=col>f35</th><th scope=col>CLASS</th></tr></thead>\n",
       "<tbody>\n",
       "\t<tr><td> 0.063</td><td> 0.160</td><td> 0.509</td><td>-0.967</td><td> 0.058</td><td> 0.000</td><td> 0.874</td><td> 0.271</td><td> 1.307</td><td>-0.011</td><td>...   </td><td>-0.924</td><td>-0.077</td><td> 0.108</td><td>-0.003</td><td> 0.381</td><td>-0.314</td><td> 0.929</td><td> 0.184</td><td>-0.001</td><td>noncar</td></tr>\n",
       "\t<tr><td>-0.037</td><td>-0.325</td><td>-0.626</td><td>-0.029</td><td> 0.121</td><td>-0.409</td><td>-0.002</td><td>-0.835</td><td>-0.595</td><td>-0.253</td><td>...   </td><td> 0.270</td><td> 0.533</td><td> 0.152</td><td>-0.978</td><td> 0.157</td><td> 0.011</td><td>-0.254</td><td> 0.453</td><td>-0.621</td><td>noncar</td></tr>\n",
       "\t<tr><td> 0.000</td><td> 1.253</td><td> 0.833</td><td>-0.970</td><td> 1.516</td><td> 0.014</td><td>-0.378</td><td> 1.197</td><td> 0.546</td><td>-0.402</td><td>...   </td><td>-0.408</td><td> 1.550</td><td> 0.010</td><td>-0.652</td><td>-0.403</td><td>-0.151</td><td> 0.000</td><td> 0.049</td><td>-0.113</td><td>car   </td></tr>\n",
       "\t<tr><td>-0.743</td><td>-0.082</td><td>-0.626</td><td> 0.723</td><td>-0.006</td><td> 0.000</td><td>-0.080</td><td>-0.297</td><td> 0.166</td><td> 0.311</td><td>...   </td><td> 0.819</td><td>-0.077</td><td>-0.099</td><td>-0.001</td><td>-0.291</td><td> 1.633</td><td> 0.686</td><td> 1.528</td><td> 0.000</td><td>noncar</td></tr>\n",
       "\t<tr><td>-0.939</td><td>-1.054</td><td>-0.140</td><td> 0.036</td><td>-0.766</td><td> 0.000</td><td>-0.272</td><td> 1.077</td><td> 5.236</td><td>-0.366</td><td>...   </td><td> 0.676</td><td> 0.533</td><td>-0.003</td><td> 0.122</td><td>-0.179</td><td>-1.449</td><td> 0.024</td><td>-1.698</td><td> 0.083</td><td>noncar</td></tr>\n",
       "\t<tr><td>-0.247</td><td> 1.618</td><td> 1.967</td><td>-0.484</td><td> 1.516</td><td> 0.102</td><td>-0.001</td><td> 0.091</td><td>-1.482</td><td> 0.729</td><td>...   </td><td>-0.699</td><td>-0.280</td><td> 0.003</td><td>-0.841</td><td>-0.403</td><td>-1.287</td><td>-0.033</td><td>-1.698</td><td> 0.000</td><td>noncar</td></tr>\n",
       "</tbody>\n",
       "</table>\n"
      ],
      "text/latex": [
       "\\begin{tabular}{r|lllllllllllllllllllllllllllllllllllll}\n",
       " f0 & f1 & f2 & f3 & f4 & f5 & f6 & f7 & f8 & f9 & ... & f27 & f28 & f29 & f30 & f31 & f32 & f33 & f34 & f35 & CLASS\\\\\n",
       "\\hline\n",
       "\t  0.063 &  0.160 &  0.509 & -0.967 &  0.058 &  0.000 &  0.874 &  0.271 &  1.307 & -0.011 & ...    & -0.924 & -0.077 &  0.108 & -0.003 &  0.381 & -0.314 &  0.929 &  0.184 & -0.001 & noncar\\\\\n",
       "\t -0.037 & -0.325 & -0.626 & -0.029 &  0.121 & -0.409 & -0.002 & -0.835 & -0.595 & -0.253 & ...    &  0.270 &  0.533 &  0.152 & -0.978 &  0.157 &  0.011 & -0.254 &  0.453 & -0.621 & noncar\\\\\n",
       "\t  0.000 &  1.253 &  0.833 & -0.970 &  1.516 &  0.014 & -0.378 &  1.197 &  0.546 & -0.402 & ...    & -0.408 &  1.550 &  0.010 & -0.652 & -0.403 & -0.151 &  0.000 &  0.049 & -0.113 & car   \\\\\n",
       "\t -0.743 & -0.082 & -0.626 &  0.723 & -0.006 &  0.000 & -0.080 & -0.297 &  0.166 &  0.311 & ...    &  0.819 & -0.077 & -0.099 & -0.001 & -0.291 &  1.633 &  0.686 &  1.528 &  0.000 & noncar\\\\\n",
       "\t -0.939 & -1.054 & -0.140 &  0.036 & -0.766 &  0.000 & -0.272 &  1.077 &  5.236 & -0.366 & ...    &  0.676 &  0.533 & -0.003 &  0.122 & -0.179 & -1.449 &  0.024 & -1.698 &  0.083 & noncar\\\\\n",
       "\t -0.247 &  1.618 &  1.967 & -0.484 &  1.516 &  0.102 & -0.001 &  0.091 & -1.482 &  0.729 & ...    & -0.699 & -0.280 &  0.003 & -0.841 & -0.403 & -1.287 & -0.033 & -1.698 &  0.000 & noncar\\\\\n",
       "\\end{tabular}\n"
      ],
      "text/markdown": [
       "\n",
       "f0 | f1 | f2 | f3 | f4 | f5 | f6 | f7 | f8 | f9 | ... | f27 | f28 | f29 | f30 | f31 | f32 | f33 | f34 | f35 | CLASS | \n",
       "|---|---|---|---|---|---|\n",
       "|  0.063 |  0.160 |  0.509 | -0.967 |  0.058 |  0.000 |  0.874 |  0.271 |  1.307 | -0.011 | ...    | -0.924 | -0.077 |  0.108 | -0.003 |  0.381 | -0.314 |  0.929 |  0.184 | -0.001 | noncar | \n",
       "| -0.037 | -0.325 | -0.626 | -0.029 |  0.121 | -0.409 | -0.002 | -0.835 | -0.595 | -0.253 | ...    |  0.270 |  0.533 |  0.152 | -0.978 |  0.157 |  0.011 | -0.254 |  0.453 | -0.621 | noncar | \n",
       "|  0.000 |  1.253 |  0.833 | -0.970 |  1.516 |  0.014 | -0.378 |  1.197 |  0.546 | -0.402 | ...    | -0.408 |  1.550 |  0.010 | -0.652 | -0.403 | -0.151 |  0.000 |  0.049 | -0.113 | car    | \n",
       "| -0.743 | -0.082 | -0.626 |  0.723 | -0.006 |  0.000 | -0.080 | -0.297 |  0.166 |  0.311 | ...    |  0.819 | -0.077 | -0.099 | -0.001 | -0.291 |  1.633 |  0.686 |  1.528 |  0.000 | noncar | \n",
       "| -0.939 | -1.054 | -0.140 |  0.036 | -0.766 |  0.000 | -0.272 |  1.077 |  5.236 | -0.366 | ...    |  0.676 |  0.533 | -0.003 |  0.122 | -0.179 | -1.449 |  0.024 | -1.698 |  0.083 | noncar | \n",
       "| -0.247 |  1.618 |  1.967 | -0.484 |  1.516 |  0.102 | -0.001 |  0.091 | -1.482 |  0.729 | ...    | -0.699 | -0.280 |  0.003 | -0.841 | -0.403 | -1.287 | -0.033 | -1.698 |  0.000 | noncar | \n",
       "\n",
       "\n"
      ],
      "text/plain": [
       "  f0     f1     f2     f3     f4     f5     f6     f7     f8     f9     ...\n",
       "1  0.063  0.160  0.509 -0.967  0.058  0.000  0.874  0.271  1.307 -0.011 ...\n",
       "2 -0.037 -0.325 -0.626 -0.029  0.121 -0.409 -0.002 -0.835 -0.595 -0.253 ...\n",
       "3  0.000  1.253  0.833 -0.970  1.516  0.014 -0.378  1.197  0.546 -0.402 ...\n",
       "4 -0.743 -0.082 -0.626  0.723 -0.006  0.000 -0.080 -0.297  0.166  0.311 ...\n",
       "5 -0.939 -1.054 -0.140  0.036 -0.766  0.000 -0.272  1.077  5.236 -0.366 ...\n",
       "6 -0.247  1.618  1.967 -0.484  1.516  0.102 -0.001  0.091 -1.482  0.729 ...\n",
       "  f27    f28    f29    f30    f31    f32    f33    f34    f35    CLASS \n",
       "1 -0.924 -0.077  0.108 -0.003  0.381 -0.314  0.929  0.184 -0.001 noncar\n",
       "2  0.270  0.533  0.152 -0.978  0.157  0.011 -0.254  0.453 -0.621 noncar\n",
       "3 -0.408  1.550  0.010 -0.652 -0.403 -0.151  0.000  0.049 -0.113 car   \n",
       "4  0.819 -0.077 -0.099 -0.001 -0.291  1.633  0.686  1.528  0.000 noncar\n",
       "5  0.676  0.533 -0.003  0.122 -0.179 -1.449  0.024 -1.698  0.083 noncar\n",
       "6 -0.699 -0.280  0.003 -0.841 -0.403 -1.287 -0.033 -1.698  0.000 noncar"
      ]
     },
     "metadata": {},
     "output_type": "display_data"
    }
   ],
   "source": [
    "#check the data set header\n",
    "head(vehicles)"
   ]
  },
  {
   "cell_type": "markdown",
   "metadata": {},
   "source": [
    "## Convert CLASS to Factor with 1 & -1"
   ]
  },
  {
   "cell_type": "code",
   "execution_count": 6,
   "metadata": {
    "collapsed": false
   },
   "outputs": [
    {
     "name": "stderr",
     "output_type": "stream",
     "text": [
      "\n",
      "Attaching package: 'dplyr'\n",
      "\n",
      "The following objects are masked from 'package:stats':\n",
      "\n",
      "    filter, lag\n",
      "\n",
      "The following objects are masked from 'package:base':\n",
      "\n",
      "    intersect, setdiff, setequal, union\n",
      "\n"
     ]
    }
   ],
   "source": [
    "library(dplyr)\n",
    "vehiclessvm <- vehicles\n",
    "#Convert to factor with numeric values for SVM\n",
    "vehiclessvm %>% mutate_if(is.factor, as.character) -> vehiclessvm\n",
    "vehiclessvm$CLASS[vehiclessvm$CLASS == \"car\"] <- 1\n",
    "vehiclessvm$CLASS[vehiclessvm$CLASS == \"noncar\"] <- -1\n",
    "vehiclessvm %>% mutate_if(is.character, as.factor) -> vehiclessvm"
   ]
  },
  {
   "cell_type": "markdown",
   "metadata": {},
   "source": [
    "## Split dataset into training and test dataset"
   ]
  },
  {
   "cell_type": "code",
   "execution_count": 7,
   "metadata": {
    "collapsed": false
   },
   "outputs": [
    {
     "name": "stdout",
     "output_type": "stream",
     "text": [
      "Count of Train Dataset :  592 \n",
      "Count of Test Dataset :  254 \n"
     ]
    }
   ],
   "source": [
    "vehiclesDatasetsvm = PartitionExact(vehiclessvm)\n",
    "Testvehiclessvm <- vehiclesDatasetsvm$testingData\n",
    "Trainvehiclessvm <-vehiclesDatasetsvm$trainingData\n",
    "\n",
    "cat(\"Count of Train Dataset : \", nrow(Trainvehiclessvm),\"\\n\" )\n",
    "cat(\"Count of Test Dataset : \", nrow(Testvehiclessvm),\"\\n\" )"
   ]
  },
  {
   "cell_type": "markdown",
   "metadata": {},
   "source": [
    "## Create default SVM Model"
   ]
  },
  {
   "cell_type": "code",
   "execution_count": 8,
   "metadata": {
    "collapsed": false
   },
   "outputs": [],
   "source": [
    "modelsvm <- svm(CLASS ~ . , Trainvehiclessvm)"
   ]
  },
  {
   "cell_type": "markdown",
   "metadata": {},
   "source": [
    "## Print SVM  and its Summary"
   ]
  },
  {
   "cell_type": "code",
   "execution_count": 9,
   "metadata": {
    "collapsed": false
   },
   "outputs": [
    {
     "name": "stdout",
     "output_type": "stream",
     "text": [
      "\n",
      "Call:\n",
      "svm(formula = CLASS ~ ., data = Trainvehiclessvm)\n",
      "\n",
      "\n",
      "Parameters:\n",
      "   SVM-Type:  C-classification \n",
      " SVM-Kernel:  radial \n",
      "       cost:  1 \n",
      "      gamma:  0.02777778 \n",
      "\n",
      "Number of Support Vectors:  371\n",
      "\n"
     ]
    },
    {
     "data": {
      "text/plain": [
       "\n",
       "Call:\n",
       "svm(formula = CLASS ~ ., data = Trainvehiclessvm)\n",
       "\n",
       "\n",
       "Parameters:\n",
       "   SVM-Type:  C-classification \n",
       " SVM-Kernel:  radial \n",
       "       cost:  1 \n",
       "      gamma:  0.02777778 \n",
       "\n",
       "Number of Support Vectors:  371\n",
       "\n",
       " ( 191 180 )\n",
       "\n",
       "\n",
       "Number of Classes:  2 \n",
       "\n",
       "Levels: \n",
       " -1 1\n",
       "\n",
       "\n"
      ]
     },
     "metadata": {},
     "output_type": "display_data"
    }
   ],
   "source": [
    "print(modelsvm)\n",
    "summary(modelsvm)"
   ]
  },
  {
   "cell_type": "markdown",
   "metadata": {},
   "source": [
    "## Predict based on test dataset."
   ]
  },
  {
   "cell_type": "code",
   "execution_count": 10,
   "metadata": {
    "collapsed": false
   },
   "outputs": [],
   "source": [
    "predictedsvmCLASS <- predict(modelsvm, Testvehiclessvm)"
   ]
  },
  {
   "cell_type": "markdown",
   "metadata": {},
   "source": [
    "## Check the model accuracy."
   ]
  },
  {
   "cell_type": "code",
   "execution_count": 11,
   "metadata": {
    "collapsed": false
   },
   "outputs": [
    {
     "name": "stdout",
     "output_type": "stream",
     "text": [
      "Model Accuracy On Test Dataset :  0.9370079 \n",
      "Model TPR On Test Dataset :  0.8955224 \n",
      "Model FPR On Test Dataset :  0.1044776 \n"
     ]
    }
   ],
   "source": [
    "#Check Accuracy\n",
    "tablesvm <- table(predictedsvmCLASS, Testvehiclessvm$CLASS)\n",
    "#Accuracy\n",
    "Accuracysvm <- Accuracy(tablesvm)\n",
    "cat(\"Model Accuracy On Test Dataset : \", Accuracysvm,\"\\n\" )\n",
    "# Calculate TPR of SVM\n",
    "TPRsvm <- Specificity(tablesvm)\n",
    "cat(\"Model TPR On Test Dataset : \", TPRsvm,\"\\n\" )\n",
    "# Calculate FPR of SVM\n",
    "FPRsvm <- FPR(tablesvm)\n",
    "cat(\"Model FPR On Test Dataset : \", FPRsvm,\"\\n\" )"
   ]
  },
  {
   "cell_type": "markdown",
   "metadata": {},
   "source": [
    "## Tune The SVM Model For Higher Accuracy."
   ]
  },
  {
   "cell_type": "code",
   "execution_count": 12,
   "metadata": {
    "collapsed": false
   },
   "outputs": [],
   "source": [
    "#Tune SVM model\n",
    "TunedModelsvm=tune(svm, CLASS ~ ., data=Trainvehiclessvm,ranges=list(elsilon=seq(0,1,0.1), cost=1:100))"
   ]
  },
  {
   "cell_type": "markdown",
   "metadata": {},
   "source": [
    "## Print Optimum Value Of Model Parameters"
   ]
  },
  {
   "cell_type": "code",
   "execution_count": 13,
   "metadata": {
    "collapsed": false
   },
   "outputs": [
    {
     "name": "stdout",
     "output_type": "stream",
     "text": [
      "\n",
      "Parameter tuning of 'svm':\n",
      "\n",
      "- sampling method: 10-fold cross validation \n",
      "\n",
      "- best parameters:\n",
      " elsilon cost\n",
      "       0    3\n",
      "\n",
      "- best performance: 0.05573446 \n",
      "\n"
     ]
    }
   ],
   "source": [
    "print(TunedModelsvm)"
   ]
  },
  {
   "cell_type": "markdown",
   "metadata": {},
   "source": [
    "## Plot The Performance Of Tuned Model."
   ]
  },
  {
   "cell_type": "code",
   "execution_count": 14,
   "metadata": {
    "collapsed": false
   },
   "outputs": [
    {
     "data": {
      "image/png": "[encoded data removed]",
      "text/plain": [
       "Plot with title \"Performance of `svm'\""
      ]
     },
     "metadata": {},
     "output_type": "display_data"
    }
   ],
   "source": [
    "plot(TunedModelsvm)"
   ]
  },
  {
   "cell_type": "markdown",
   "metadata": {},
   "source": [
    "## Select The Best Model"
   ]
  },
  {
   "cell_type": "code",
   "execution_count": 15,
   "metadata": {
    "collapsed": false
   },
   "outputs": [],
   "source": [
    "#Find out the best model\n",
    "BstsvmModel=TunedModelsvm$best.model"
   ]
  },
  {
   "cell_type": "markdown",
   "metadata": {},
   "source": [
    "## Predict CLASS using best model.\n"
   ]
  },
  {
   "cell_type": "code",
   "execution_count": 16,
   "metadata": {
    "collapsed": true
   },
   "outputs": [],
   "source": [
    "PredBstCLASSsvm=predict(BstsvmModel,Testvehiclessvm)"
   ]
  },
  {
   "cell_type": "markdown",
   "metadata": {},
   "source": [
    "## Check Accuracy."
   ]
  },
  {
   "cell_type": "code",
   "execution_count": 17,
   "metadata": {
    "collapsed": false
   },
   "outputs": [
    {
     "name": "stdout",
     "output_type": "stream",
     "text": [
      "Model Accuracy On Test Dataset :  0.9566929 \n",
      "Model TPR On Test Dataset :  0.9402985 \n",
      "Model FPR On Test Dataset :  0.05970149 \n"
     ]
    }
   ],
   "source": [
    "tablebstsvm <- table(PredBstCLASSsvm, Testvehiclessvm$CLASS)\n",
    "#Accuracy\n",
    "Accuracybstsvm <- Accuracy(tablebstsvm)\n",
    "cat(\"Model Accuracy On Test Dataset : \", Accuracybstsvm,\"\\n\" )\n",
    "# Calculate TPR of SVM\n",
    "TPRbstsvm <- Specificity(tablebstsvm)\n",
    "cat(\"Model TPR On Test Dataset : \", TPRbstsvm,\"\\n\" )\n",
    "# Calculate FPR of SVM\n",
    "FPRbstsvm <- FPR(tablebstsvm)\n",
    "cat(\"Model FPR On Test Dataset : \", FPRbstsvm,\"\\n\" )"
   ]
  },
  {
   "cell_type": "markdown",
   "metadata": {},
   "source": [
    "## Further Tune The SVM Model"
   ]
  },
  {
   "cell_type": "code",
   "execution_count": 18,
   "metadata": {
    "collapsed": true
   },
   "outputs": [],
   "source": [
    "#Tune SVM model further\n",
    "TunedModelsvmmore=tune(svm, CLASS ~ ., data=Trainvehiclessvm,ranges=list(elsilon=seq(0,.2,0.1), cost=1:100))"
   ]
  },
  {
   "cell_type": "markdown",
   "metadata": {},
   "source": [
    "## Print Optimum Value Of Model Parameters"
   ]
  },
  {
   "cell_type": "code",
   "execution_count": 19,
   "metadata": {
    "collapsed": false
   },
   "outputs": [
    {
     "name": "stdout",
     "output_type": "stream",
     "text": [
      "\n",
      "Parameter tuning of 'svm':\n",
      "\n",
      "- sampling method: 10-fold cross validation \n",
      "\n",
      "- best parameters:\n",
      " elsilon cost\n",
      "       0    7\n",
      "\n",
      "- best performance: 0.05570621 \n",
      "\n"
     ]
    }
   ],
   "source": [
    "#Print optimum value of parameters\n",
    "print(TunedModelsvmmore)"
   ]
  },
  {
   "cell_type": "markdown",
   "metadata": {},
   "source": [
    "## Plot the performance of new SVM Regression models."
   ]
  },
  {
   "cell_type": "code",
   "execution_count": 20,
   "metadata": {
    "collapsed": false
   },
   "outputs": [
    {
     "data": {
      "image/png": "[encoded data removed]",
      "text/plain": [
       "Plot with title \"Performance of `svm'\""
      ]
     },
     "metadata": {},
     "output_type": "display_data"
    }
   ],
   "source": [
    "plot(TunedModelsvmmore)"
   ]
  },
  {
   "cell_type": "markdown",
   "metadata": {},
   "source": [
    "## Select the best model"
   ]
  },
  {
   "cell_type": "code",
   "execution_count": 21,
   "metadata": {
    "collapsed": true
   },
   "outputs": [],
   "source": [
    "#Find out the best model\n",
    "BstModelmore=TunedModelsvmmore$best.model"
   ]
  },
  {
   "cell_type": "markdown",
   "metadata": {},
   "source": [
    "## Predict CLASS using best model."
   ]
  },
  {
   "cell_type": "code",
   "execution_count": 22,
   "metadata": {
    "collapsed": true
   },
   "outputs": [],
   "source": [
    "#Predict CLASS using best model\n",
    "PredBstCLASSsvmmore=predict(BstModelmore,Testvehiclessvm)"
   ]
  },
  {
   "cell_type": "markdown",
   "metadata": {},
   "source": [
    "## Check Accuracy of the new model."
   ]
  },
  {
   "cell_type": "code",
   "execution_count": 23,
   "metadata": {
    "collapsed": false
   },
   "outputs": [
    {
     "name": "stdout",
     "output_type": "stream",
     "text": [
      "Model Accuracy On Test Dataset :  0.9488189 \n",
      "Model TPR On Test Dataset :  0.9328358 \n",
      "Model FPR On Test Dataset :  0.06716418 \n"
     ]
    }
   ],
   "source": [
    "#Check Accuracy\n",
    "tablebstsvmmore <- table(PredBstCLASSsvmmore, Testvehiclessvm$CLASS)\n",
    "#Accuracy\n",
    "Accuracybstsvmmore <- Accuracy(tablebstsvmmore)\n",
    "cat(\"Model Accuracy On Test Dataset : \", Accuracybstsvmmore,\"\\n\" )\n",
    "# Calculate TPR of SVM\n",
    "TPRbstsvmmore <- Specificity(tablebstsvmmore)\n",
    "cat(\"Model TPR On Test Dataset : \", TPRbstsvmmore,\"\\n\" )\n",
    "# Calculate FPR of SVM\n",
    "FPRbstsvmmore <- FPR(tablebstsvmmore)\n",
    "cat(\"Model FPR On Test Dataset : \", FPRbstsvmmore,\"\\n\" )"
   ]
  },
  {
   "cell_type": "code",
   "execution_count": null,
   "metadata": {
    "collapsed": true
   },
   "outputs": [],
   "source": []
  }
 ],
 "metadata": {
  "anaconda-cloud": {},
  "kernelspec": {
   "display_name": "R",
   "language": "R",
   "name": "ir"
  },
  "language_info": {
   "codemirror_mode": "r",
   "file_extension": ".r",
   "mimetype": "text/x-r-source",
   "name": "R",
   "pygments_lexer": "r",
   "version": "3.3.1"
  }
 },
 "nbformat": 4,
 "nbformat_minor": 1
}
