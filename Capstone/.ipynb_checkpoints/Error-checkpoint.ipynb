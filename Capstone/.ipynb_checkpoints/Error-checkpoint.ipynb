{
 "cells": [
  {
   "cell_type": "markdown",
   "metadata": {},
   "source": [
    "## Assignment 5 – Support Vector Machine.\n",
    "## Data Science 450"
   ]
  },
  {
   "cell_type": "markdown",
   "metadata": {},
   "source": [
    "I am using fread to load a big file."
   ]
  },
  {
   "cell_type": "code",
   "execution_count": 7,
   "metadata": {
    "collapsed": false
   },
   "outputs": [],
   "source": [
    "library(data.table)\n",
    "library(caret)\n",
    "Loaddata <- function(file)\n",
    "{\n",
    "#browser()\n",
    "## Read the csv file\n",
    "#Dataload <- read.csv(file, header = TRUE,stringsAsFactors = FALSE)\n",
    "# fread function is more efficent for larger data file and it creates a data table not a data frame in the process.\n",
    "Dataload <- fread(file, stringsAsFactors=TRUE)\n",
    "## Remove cases or rows with missing values. In this case we keep the\n",
    "## rows which do not have nas.\n",
    "Dataload[complete.cases(Dataload), ]\n",
    "return(Dataload)\n",
    "}"
   ]
  },
  {
   "cell_type": "markdown",
   "metadata": {},
   "source": [
    "Till this point I have no issues and I can remove factor columns."
   ]
  },
  {
   "cell_type": "code",
   "execution_count": 8,
   "metadata": {
    "collapsed": false
   },
   "outputs": [
    {
     "name": "stdout",
     "output_type": "stream",
     "text": [
      " [1] \"culture_objects_top_25_raion\" \"oil_chemistry_raion\"         \n",
      " [3] \"railroad_terminal_raion\"      \"nuclear_reactor_raion\"       \n",
      " [5] \"build_count_foam\"             \"big_road1_1line\"             \n",
      " [7] \"railroad_1line\"               \"office_sqm_500\"              \n",
      " [9] \"trc_sqm_500\"                  \"cafe_count_500_price_4000\"   \n",
      "[11] \"cafe_count_500_price_high\"    \"mosque_count_500\"            \n",
      "[13] \"leisure_count_500\"            \"office_sqm_1000\"             \n",
      "[15] \"trc_sqm_1000\"                 \"cafe_count_1000_price_high\"  \n",
      "[17] \"mosque_count_1000\"            \"cafe_count_1500_price_high\"  \n",
      "[19] \"mosque_count_1500\"            \"cafe_count_2000_price_high\"  \n"
     ]
    }
   ],
   "source": [
    "# Load the file.\n",
    "testdt <- Loaddata('test.csv')\n",
    "traindt <- Loaddata('train.csv')\n",
    "\n",
    "# zero variance variables\n",
    "insignificant <- nearZeroVar(traindt)\n",
    "print(names(traindt[ , insignificant]))\n",
    "\n",
    "#Remove all zero variance variables from training data\n",
    "trainwithoutvardt <- traindt\n",
    "trainwithoutvardt[,insignificant] <- NULL\n",
    "\n",
    "#Remove all zero variance variables from test data\n",
    "testwithoutvardt <- testdt\n",
    "testwithoutvardt[,insignificant] <- NULL\n",
    "\n",
    "#Remove all factor variables from train data\n",
    "y <- sapply(trainwithoutvardt, class) == \"factor\"\n",
    "#trainwithoutfactordt <- trainwithoutvardt[, y]\n",
    "trainwithoutvardt[,y] <- NULL"
   ]
  },
  {
   "cell_type": "markdown",
   "metadata": {},
   "source": [
    "However the following piece of code is throwing the following error:\n",
    "Error in `[<-.data.table`(`*tmp*`, , x, value = NULL) :\n",
    "j must be vector of column name or positions"
   ]
  },
  {
   "cell_type": "code",
   "execution_count": 9,
   "metadata": {
    "collapsed": true
   },
   "outputs": [],
   "source": [
    "#Remove all factor variables from test data\n",
    "x <- sapply(testwithoutvardt, class) == \"factor\"\n",
    "testwithoutvardt[,x] <- NULL\n",
    "#testwithoutfactordt <- testwithoutvardt[, x]"
   ]
  },
  {
   "cell_type": "code",
   "execution_count": null,
   "metadata": {
    "collapsed": true
   },
   "outputs": [],
   "source": []
  }
 ],
 "metadata": {
  "anaconda-cloud": {},
  "kernelspec": {
   "display_name": "R",
   "language": "R",
   "name": "ir"
  },
  "language_info": {
   "codemirror_mode": "r",
   "file_extension": ".r",
   "mimetype": "text/x-r-source",
   "name": "R",
   "pygments_lexer": "r",
   "version": "3.3.1"
  }
 },
 "nbformat": 4,
 "nbformat_minor": 1
}
