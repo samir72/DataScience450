{
 "cells": [
  {
   "cell_type": "markdown",
   "metadata": {},
   "source": [
    "## Error using data tables."
   ]
  },
  {
   "cell_type": "markdown",
   "metadata": {},
   "source": [
    "I am using fread to load a big file."
   ]
  },
  {
   "cell_type": "code",
   "execution_count": 45,
   "metadata": {
    "collapsed": false
   },
   "outputs": [],
   "source": [
    "library(data.table)\n",
    "library(caret)\n",
    "Loaddata <- function(file)\n",
    "{\n",
    "#browser()\n",
    "## Read the csv file\n",
    "#Dataload <- read.csv(file, header = TRUE,stringsAsFactors = FALSE)\n",
    "# fread function is more efficent for larger data file and it creates a data table not a data frame in the process.\n",
    "Dataload <- fread(file, stringsAsFactors=TRUE)\n",
    "## Remove cases or rows with missing values. In this case we keep the\n",
    "## rows which do not have nas.\n",
    "Dataload[complete.cases(Dataload), ]\n",
    "return(Dataload)\n",
    "}"
   ]
  },
  {
   "cell_type": "markdown",
   "metadata": {},
   "source": [
    "Till this point I have no issues and I can remove factor columns."
   ]
  },
  {
   "cell_type": "code",
   "execution_count": 46,
   "metadata": {
    "collapsed": false
   },
   "outputs": [
    {
     "name": "stdout",
     "output_type": "stream",
     "text": [
      "\r",
      "Read 98.5% of 30471 rows\r",
      "Read 30471 rows and 292 (of 292) columns from 0.043 GB file in 00:00:03\n"
     ]
    }
   ],
   "source": [
    "# Load the file.\n",
    "testdt <- Loaddata('test.csv')\n",
    "traindt <- Loaddata('train.csv')"
   ]
  },
  {
   "cell_type": "markdown",
   "metadata": {},
   "source": [
    "**Get column with zero variance**"
   ]
  },
  {
   "cell_type": "code",
   "execution_count": 47,
   "metadata": {
    "collapsed": false
   },
   "outputs": [
    {
     "name": "stdout",
     "output_type": "stream",
     "text": [
      "insignificant :  31 36 38 40 76 115 119 157 159 169 170 173 174 180 182 193 196 216 219 239 \n"
     ]
    }
   ],
   "source": [
    "# zero variance variables\n",
    "insignificant <- nearZeroVar(traindt)\n",
    "cat(\"insignificant : \", insignificant,\"\\n\")"
   ]
  },
  {
   "cell_type": "code",
   "execution_count": 48,
   "metadata": {
    "collapsed": false
   },
   "outputs": [
    {
     "name": "stdout",
     "output_type": "stream",
     "text": [
      " [1] \"culture_objects_top_25_raion\" \"oil_chemistry_raion\"         \n",
      " [3] \"railroad_terminal_raion\"      \"nuclear_reactor_raion\"       \n",
      " [5] \"build_count_foam\"             \"big_road1_1line\"             \n",
      " [7] \"railroad_1line\"               \"office_sqm_500\"              \n",
      " [9] \"trc_sqm_500\"                  \"cafe_count_500_price_4000\"   \n",
      "[11] \"cafe_count_500_price_high\"    \"mosque_count_500\"            \n",
      "[13] \"leisure_count_500\"            \"office_sqm_1000\"             \n",
      "[15] \"trc_sqm_1000\"                 \"cafe_count_1000_price_high\"  \n",
      "[17] \"mosque_count_1000\"            \"cafe_count_1500_price_high\"  \n",
      "[19] \"mosque_count_1500\"            \"cafe_count_2000_price_high\"  \n"
     ]
    }
   ],
   "source": [
    "print(names(traindt[ , insignificant,with=FALSE]))"
   ]
  },
  {
   "cell_type": "markdown",
   "metadata": {},
   "source": [
    "**Following piece of code is running without any errors, without \"with=FALSE\" argument and we are still working on data table**"
   ]
  },
  {
   "cell_type": "code",
   "execution_count": 43,
   "metadata": {
    "collapsed": false
   },
   "outputs": [
    {
     "name": "stdout",
     "output_type": "stream",
     "text": [
      "Passed train \n",
      "Passed test \n"
     ]
    }
   ],
   "source": [
    "#Remove all zero variance variables from training data\n",
    "trainwithoutvardt <- traindt\n",
    "trainwithoutvardt[ , insignificant] <- NULL\n",
    "cat(\"Passed train\",\"\\n\")\n",
    "#Remove all zero variance variables from test data\n",
    "testwithoutvardt <- testdt\n",
    "testwithoutvardt[ , insignificant] <- NULL\n",
    "cat(\"Passed test\",\"\\n\")"
   ]
  },
  {
   "cell_type": "markdown",
   "metadata": {},
   "source": [
    "**However the following piece of code is throwing the following errors even after including \"with=FALSE\" argument, same piece of code executes for a data frame if I load the file through using readcsv function**"
   ]
  },
  {
   "cell_type": "code",
   "execution_count": 44,
   "metadata": {
    "collapsed": false
   },
   "outputs": [
    {
     "name": "stdout",
     "output_type": "stream",
     "text": [
      "Passed sapply :  FALSE TRUE FALSE FALSE FALSE FALSE FALSE FALSE FALSE FALSE FALSE TRUE TRUE FALSE FALSE FALSE FALSE FALSE FALSE FALSE FALSE FALSE FALSE FALSE FALSE FALSE FALSE FALSE FALSE TRUE FALSE FALSE TRUE TRUE TRUE TRUE TRUE FALSE FALSE FALSE FALSE FALSE FALSE FALSE FALSE FALSE FALSE FALSE FALSE FALSE FALSE FALSE FALSE FALSE FALSE FALSE FALSE FALSE FALSE FALSE FALSE FALSE FALSE FALSE FALSE FALSE FALSE FALSE FALSE FALSE FALSE FALSE FALSE FALSE FALSE FALSE FALSE FALSE FALSE FALSE FALSE FALSE FALSE FALSE FALSE FALSE FALSE FALSE FALSE FALSE FALSE FALSE FALSE FALSE FALSE FALSE FALSE FALSE FALSE FALSE FALSE TRUE FALSE FALSE FALSE FALSE FALSE FALSE FALSE FALSE FALSE FALSE FALSE FALSE FALSE FALSE FALSE FALSE FALSE FALSE FALSE FALSE FALSE FALSE FALSE FALSE FALSE FALSE FALSE FALSE FALSE FALSE FALSE FALSE FALSE FALSE FALSE FALSE FALSE FALSE FALSE FALSE FALSE FALSE FALSE TRUE FALSE FALSE FALSE FALSE FALSE FALSE FALSE FALSE FALSE FALSE FALSE FALSE FALSE FALSE FALSE FALSE FALSE FALSE FALSE FALSE FALSE FALSE FALSE FALSE FALSE FALSE FALSE FALSE FALSE FALSE FALSE FALSE FALSE FALSE FALSE FALSE FALSE FALSE FALSE FALSE FALSE FALSE FALSE FALSE FALSE FALSE FALSE FALSE FALSE FALSE FALSE FALSE FALSE FALSE FALSE FALSE FALSE FALSE FALSE FALSE FALSE FALSE FALSE FALSE FALSE FALSE FALSE FALSE FALSE FALSE FALSE FALSE FALSE FALSE FALSE FALSE FALSE FALSE FALSE FALSE FALSE FALSE FALSE FALSE FALSE FALSE FALSE FALSE FALSE FALSE FALSE FALSE FALSE FALSE FALSE FALSE FALSE FALSE FALSE FALSE FALSE FALSE FALSE FALSE FALSE FALSE FALSE FALSE FALSE FALSE FALSE FALSE FALSE FALSE FALSE FALSE FALSE FALSE FALSE FALSE FALSE FALSE FALSE FALSE FALSE FALSE \n"
     ]
    },
    {
     "ename": "ERROR",
     "evalue": "Error in `[<-.data.table`(`*tmp*`, , y, value = NULL): j must be vector of column name or positions\n",
     "output_type": "error",
     "traceback": [
      "Error in `[<-.data.table`(`*tmp*`, , y, value = NULL): j must be vector of column name or positions\nTraceback:\n",
      "1. `[<-`(`*tmp*`, , y, value = NULL)",
      "2. `[<-.data.table`(`*tmp*`, , y, value = NULL)",
      "3. stop(\"j must be vector of column name or positions\")"
     ]
    }
   ],
   "source": [
    "#Remove all factor variables from train data\n",
    "y <- sapply(trainwithoutvardt, class) == \"factor\"\n",
    "cat(\"Passed sapply : \", y,\"\\n\")\n",
    "#trainwithoutfactordt <- trainwithoutvardt[, y]\n",
    "traindt[ , y] <- NULL\n",
    "cat(\"Passed train apply\",\"\\n\")\n",
    "#Remove all factor variables from test data\n",
    "x <- sapply(testwithoutvardt, class) == \"factor\"\n",
    "testwithoutvardt[,x] <- NULL\n",
    "#testwithoutfactordt <- testwithoutvardt[, x]\n",
    "cat(\"Passed test apply\",\"\\n\")"
   ]
  }
 ],
 "metadata": {
  "anaconda-cloud": {},
  "kernelspec": {
   "display_name": "R",
   "language": "R",
   "name": "ir"
  },
  "language_info": {
   "codemirror_mode": "r",
   "file_extension": ".r",
   "mimetype": "text/x-r-source",
   "name": "R",
   "pygments_lexer": "r",
   "version": "3.3.1"
  }
 },
 "nbformat": 4,
 "nbformat_minor": 1
}
